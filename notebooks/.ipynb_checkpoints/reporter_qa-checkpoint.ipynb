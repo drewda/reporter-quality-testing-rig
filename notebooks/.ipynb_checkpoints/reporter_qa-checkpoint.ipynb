{
 "cells": [
  {
   "cell_type": "code",
   "execution_count": 132,
   "metadata": {
    "collapsed": false,
    "deletable": true,
    "editable": true
   },
   "outputs": [],
   "source": [
    "from __future__ import division\n",
    "import requests\n",
    "import time as t\n",
    "from mpl_toolkits.basemap import Basemap\n",
    "from shapely.geometry import LineString\n",
    "from matplotlib import pyplot as plt\n",
    "import numpy as np\n",
    "import os\n",
    "import urllib\n",
    "import json\n",
    "%matplotlib inline"
   ]
  },
  {
   "cell_type": "markdown",
   "metadata": {
    "deletable": true,
    "editable": true
   },
   "source": [
    "# Env vars and functions"
   ]
  },
  {
   "cell_type": "code",
   "execution_count": 133,
   "metadata": {
    "collapsed": false,
    "deletable": true,
    "editable": true
   },
   "outputs": [],
   "source": [
    "apiKey = os.environ.get('MAPZEN_API')\n",
    "\n",
    "def decode(encoded):\n",
    "    inv = 1.0 / 1e6\n",
    "    decoded = []\n",
    "    previous = [0,0]\n",
    "    i = 0\n",
    "    while i < len(encoded):\n",
    "        ll = [0,0]\n",
    "        for j in [0, 1]:\n",
    "            shift = 0\n",
    "            byte = 0x20\n",
    "            while byte >= 0x20:\n",
    "                byte = ord(encoded[i]) - 63\n",
    "                i += 1\n",
    "                ll[j] |= (byte & 0x1f) << shift\n",
    "                shift += 5\n",
    "            ll[j] = previous[j] + (~(ll[j] >> 1) if ll[j] & 1 else (ll[j] >> 1))\n",
    "            previous[j] = ll[j]\n",
    "        decoded.append([float('%.6f' % (ll[1] * inv)), float('%.6f' % (ll[0] * inv))])\n",
    "    return decoded\n",
    "\n",
    "\n",
    "def synthesize_gps(edges, shape, distribution=\"normal\", stddev=0, uuid='999999'):\n",
    "    \n",
    "    jsonDict = {\"uuid\":\"100343\", \"trace\":[]}\n",
    "    coords = decode(shape)\n",
    "    sttm = t.time() - 100000\n",
    "    \n",
    "    for i, edge in enumerate(edges):\n",
    "        dist = edge['length']\n",
    "        speed = edge['speed']\n",
    "        beginShapeIndex = edge['begin_shape_index']\n",
    "        endShapeIndex = edge['end_shape_index']\n",
    "        lon, lat = coords[endShapeIndex]\n",
    "        if stddev > 0:\n",
    "            avgLat = np.mean(np.array(coords)[:, 1])\n",
    "            stddevLon = stddev / 111.111     # approx. 111.111 km per deg lon unless very close to the poles\n",
    "            stddevLat = stddev / (111.111 * np.cos(avgLat))     # approx 111.111 km * cos(lat) per deg lat\n",
    "            lon += np.random.normal(scale=stddevLon)\n",
    "            lat += np.random.normal(scale=stddevLat)\n",
    "        dur = dist / speed * 3600.0\n",
    "        time = sttm + dur\n",
    "        time = int(round(time))\n",
    "        if i == 0:\n",
    "            st_lon, st_lat = coords[beginShapeIndex]\n",
    "            jsonDict[\"trace\"].append({\"lat\":st_lat,\"lon\":st_lon,\"time\":time})\n",
    "        jsonDict[\"trace\"].append({\"lat\": lat,\"lon\":lon,\"time\":time})\n",
    "        sttm = time\n",
    "\n",
    "    return jsonDict"
   ]
  },
  {
   "cell_type": "markdown",
   "metadata": {
    "deletable": true,
    "editable": true
   },
   "source": [
    "# Open Traffic Reporter Validation Service "
   ]
  },
  {
   "cell_type": "markdown",
   "metadata": {
    "deletable": true,
    "editable": true
   },
   "source": [
    "### 1. Get New Route"
   ]
  },
  {
   "cell_type": "code",
   "execution_count": 3,
   "metadata": {
    "collapsed": false,
    "deletable": true,
    "editable": true
   },
   "outputs": [],
   "source": [
    "# 349 38th St Oakland to 111 New Montgomery SF\n",
    "stLat = 37.8261\n",
    "stLon = -122.25872\n",
    "endLat = 37.790168\n",
    "endLon = -122.402264\n",
    "\n",
    "jsonDict = {\"locations\":[\n",
    "        {\"lat\":stLat,\"lon\":stLon,\"type\":\"break\"},\n",
    "        {\"lat\":endLat,\"lon\":endLon,\"type\":\"break\"}],\n",
    "            \"costing\":\"auto\",\n",
    "            \"id\":\"my_work_route\"}"
   ]
  },
  {
   "cell_type": "code",
   "execution_count": 4,
   "metadata": {
    "collapsed": true,
    "deletable": true,
    "editable": true
   },
   "outputs": [],
   "source": [
    "baseUrl = 'http://valhalla:8002/route'\n",
    "route = requests.post(baseUrl, json=jsonDict)"
   ]
  },
  {
   "cell_type": "code",
   "execution_count": 5,
   "metadata": {
    "collapsed": false,
    "deletable": true,
    "editable": true
   },
   "outputs": [
    {
     "name": "stdout",
     "output_type": "stream",
     "text": [
      "200\n"
     ]
    }
   ],
   "source": [
    "print route.status_code\n",
    "shape = route.json()['trip']['legs'][0]['shape']"
   ]
  },
  {
   "cell_type": "markdown",
   "metadata": {
    "deletable": true,
    "editable": true
   },
   "source": [
    "### 2. Pass Route Shape to Map Matching API "
   ]
  },
  {
   "cell_type": "code",
   "execution_count": 31,
   "metadata": {
    "collapsed": true,
    "deletable": true,
    "editable": true
   },
   "outputs": [],
   "source": [
    "payload = {\n",
    "    \"encoded_polyline\": shape,\n",
    "    \"costing\": \"pedestrian\",\n",
    "    \"directions_options\": {\n",
    "        \"units\": \"kilometers\"\n",
    "    },\n",
    "    \"shape_match\": \"map_snap\",\n",
    "    \"trace_options\": {\n",
    "        \"turn_penalty_factor\": 500\n",
    "    }\n",
    "}"
   ]
  },
  {
   "cell_type": "code",
   "execution_count": 32,
   "metadata": {
    "collapsed": true,
    "deletable": true,
    "editable": true
   },
   "outputs": [],
   "source": [
    "baseUrl = 'http://valhalla:8002/trace_attributes?'"
   ]
  },
  {
   "cell_type": "code",
   "execution_count": 33,
   "metadata": {
    "collapsed": true,
    "deletable": true,
    "editable": true
   },
   "outputs": [],
   "source": [
    "matched = requests.post(baseUrl, json=payload)"
   ]
  },
  {
   "cell_type": "code",
   "execution_count": 34,
   "metadata": {
    "collapsed": false,
    "deletable": true,
    "editable": true
   },
   "outputs": [
    {
     "name": "stdout",
     "output_type": "stream",
     "text": [
      "Matched 313 points. Showing the first below: \n",
      "{u'lon': -122.258926, u'distance_from_trace_point': 0.0, u'distance_along_edge': 0.119, u'type': u'matched', u'lat': 37.82618, u'edge_index': 0}\n"
     ]
    }
   ],
   "source": [
    "print 'Matched {0} points. Showing the first below: \\n{1}'.format(\n",
    "    len(matched.json()['matched_points']), matched.json()['matched_points'][0])"
   ]
  },
  {
   "cell_type": "code",
   "execution_count": 35,
   "metadata": {
    "collapsed": true,
    "deletable": true,
    "editable": true
   },
   "outputs": [],
   "source": [
    "tr = requests.post('http://valhalla:8002/trace_routes?', json=payload)"
   ]
  },
  {
   "cell_type": "code",
   "execution_count": 10,
   "metadata": {
    "collapsed": false,
    "deletable": true,
    "editable": true
   },
   "outputs": [
    {
     "name": "stdout",
     "output_type": "stream",
     "text": [
      "Got 153 edges. Showing the first below: \n",
      " {u'drive_on_right': True, u'max_downward_grade': 32768, u'end_heading': 206, u'surface': u'paved_smooth', u'names': [u'Manila Avenue'], u'end_shape_index': 1, u'way_id': 307501648, u'speed': 35, u'id': 294479583794, u'pedestrian_type': u'foot', u'use': u'road', u'density': 14, u'begin_shape_index': 0, u'max_upward_grade': 32768, u'traversability': u'both', u'lane_count': 0, u'travel_mode': u'pedestrian', u'mean_elevation': 32768, u'weighted_grade': 0.0, u'end_node': {u'elapsed_time': 116, u'type': u'street_intersection', u'time_zone': u'PST-08PDT+01,M3.2.0/02:00,M11.1.0/02:00', u'admin_index': 0}, u'road_class': u'residential', u'begin_heading': 206, u'bicycle_network': 0, u'traffic_segments': [{u'begin_percent': 0.0, u'starts_segment': True, u'ends_segment': True, u'end_percent': 1.0, u'segment_id': 324947008050}], u'length': 0.165}\n"
     ]
    }
   ],
   "source": [
    "edges = matched.json()['edges']\n",
    "print 'Got {0} edges. Showing the first below: \\n {1}'.format(len(edges), edges[0])"
   ]
  },
  {
   "cell_type": "code",
   "execution_count": 42,
   "metadata": {
    "collapsed": false,
    "deletable": true,
    "editable": true
   },
   "outputs": [
    {
     "data": {
      "text/plain": [
       "{u'begin_heading': 206,\n",
       " u'begin_shape_index': 0,\n",
       " u'bicycle_network': 0,\n",
       " u'density': 14,\n",
       " u'drive_on_right': True,\n",
       " u'end_heading': 206,\n",
       " u'end_node': {u'admin_index': 0,\n",
       "  u'elapsed_time': 116,\n",
       "  u'time_zone': u'PST-08PDT+01,M3.2.0/02:00,M11.1.0/02:00',\n",
       "  u'type': u'street_intersection'},\n",
       " u'end_shape_index': 1,\n",
       " u'id': 294479583794,\n",
       " u'lane_count': 0,\n",
       " u'length': 0.165,\n",
       " u'max_downward_grade': 32768,\n",
       " u'max_upward_grade': 32768,\n",
       " u'mean_elevation': 32768,\n",
       " u'names': [u'Manila Avenue'],\n",
       " u'pedestrian_type': u'foot',\n",
       " u'road_class': u'residential',\n",
       " u'speed': 35,\n",
       " u'surface': u'paved_smooth',\n",
       " u'traffic_segments': [{u'begin_percent': 0.0,\n",
       "   u'end_percent': 1.0,\n",
       "   u'ends_segment': True,\n",
       "   u'segment_id': 324947008050,\n",
       "   u'starts_segment': True}],\n",
       " u'travel_mode': u'pedestrian',\n",
       " u'traversability': u'both',\n",
       " u'use': u'road',\n",
       " u'way_id': 307501648,\n",
       " u'weighted_grade': 0.0}"
      ]
     },
     "execution_count": 42,
     "metadata": {},
     "output_type": "execute_result"
    }
   ],
   "source": [
    "edges[0]"
   ]
  },
  {
   "cell_type": "code",
   "execution_count": 67,
   "metadata": {
    "collapsed": false,
    "deletable": true,
    "editable": true
   },
   "outputs": [],
   "source": [
    "trafficSegments = [x['traffic_segments'] for x in edges if 'traffic_segments' in x.keys()]\n",
    "trafficSegmentIDs = [x[0]['segment_id'] for x in trafficSegments]\n",
    "unqTrafficSegmentIDs = np.unique(trafficSegmentIDs)"
   ]
  },
  {
   "cell_type": "markdown",
   "metadata": {
    "deletable": true,
    "editable": true
   },
   "source": [
    "### 3. Create Fake GPS traces"
   ]
  },
  {
   "cell_type": "markdown",
   "metadata": {
    "deletable": true,
    "editable": true
   },
   "source": [
    "#### Extract coords from routes.shape, perturb, and save to dict"
   ]
  },
  {
   "cell_type": "code",
   "execution_count": 143,
   "metadata": {
    "collapsed": false,
    "deletable": true,
    "editable": true
   },
   "outputs": [],
   "source": [
    "jsonDict = synthesize_gps(edges, shape, stddev=0)   # stddev in km"
   ]
  },
  {
   "cell_type": "code",
   "execution_count": 144,
   "metadata": {
    "collapsed": false,
    "deletable": true,
    "editable": true
   },
   "outputs": [
    {
     "name": "stdout",
     "output_type": "stream",
     "text": [
      "Sending 154 fake GPS measurements to the reporter\n"
     ]
    }
   ],
   "source": [
    "print 'Sending {0} fake GPS measurements to the reporter'.format(len(jsonDict['trace']))"
   ]
  },
  {
   "cell_type": "markdown",
   "metadata": {
    "deletable": true,
    "editable": true
   },
   "source": [
    "### 4. Send Fake GPS to Reporter"
   ]
  },
  {
   "cell_type": "code",
   "execution_count": 145,
   "metadata": {
    "collapsed": false,
    "deletable": true,
    "editable": true
   },
   "outputs": [],
   "source": [
    "baseUrl = 'http://reporter:8003/report'\n",
    "report = requests.post(baseUrl, json=jsonDict)"
   ]
  },
  {
   "cell_type": "code",
   "execution_count": 146,
   "metadata": {
    "collapsed": false,
    "deletable": true,
    "editable": true
   },
   "outputs": [
    {
     "name": "stdout",
     "output_type": "stream",
     "text": [
      "Reporter matched 154 GPS measurements to 14 OSMLR segments. Showing the first below: \n",
      "{u'segment_id': 200991413897, u'begin_shape_index': 17, u'start_time': 1495646632.0, u'length': 356, u'end_time': 1495646658.0, u'end_shape_index': 21}\n"
     ]
    }
   ],
   "source": [
    "segments = report.json()['segments']\n",
    "print 'Reporter matched {0} GPS measurements to {1} OSMLR segments. Showing the first below: \\n{2}'.format(\n",
    "    len(jsonDict['trace']),len(segments), segments[3])"
   ]
  },
  {
   "cell_type": "code",
   "execution_count": 147,
   "metadata": {
    "collapsed": false,
    "deletable": true,
    "editable": true
   },
   "outputs": [
    {
     "data": {
      "text/plain": [
       "{u'begin_shape_index': 0,\n",
       " u'end_shape_index': 2,\n",
       " u'end_time': 1495646577.0,\n",
       " u'length': -1,\n",
       " u'segment_id': 205722588809,\n",
       " u'start_time': -1.0}"
      ]
     },
     "execution_count": 147,
     "metadata": {},
     "output_type": "execute_result"
    }
   ],
   "source": [
    "segments[0]"
   ]
  },
  {
   "cell_type": "code",
   "execution_count": 148,
   "metadata": {
    "collapsed": false,
    "deletable": true,
    "editable": true
   },
   "outputs": [],
   "source": [
    "osmlrSegments = [x['segment_id'] for x in segments]"
   ]
  },
  {
   "cell_type": "code",
   "execution_count": 149,
   "metadata": {
    "collapsed": false,
    "deletable": true,
    "editable": true
   },
   "outputs": [
    {
     "data": {
      "text/plain": [
       "14"
      ]
     },
     "execution_count": 149,
     "metadata": {},
     "output_type": "execute_result"
    }
   ],
   "source": [
    "len(osmlrSegments)"
   ]
  },
  {
   "cell_type": "code",
   "execution_count": 150,
   "metadata": {
    "collapsed": false,
    "deletable": true,
    "editable": true
   },
   "outputs": [
    {
     "data": {
      "text/plain": [
       "14"
      ]
     },
     "execution_count": 150,
     "metadata": {},
     "output_type": "execute_result"
    }
   ],
   "source": [
    "len(np.unique(osmlrSegments))"
   ]
  },
  {
   "cell_type": "code",
   "execution_count": 151,
   "metadata": {
    "collapsed": false,
    "deletable": true,
    "editable": true
   },
   "outputs": [
    {
     "data": {
      "text/plain": [
       "0.8571428571428571"
      ]
     },
     "execution_count": 151,
     "metadata": {},
     "output_type": "execute_result"
    }
   ],
   "source": [
    "np.sum([os in unqTrafficSegmentIDs for os in osmlrSegments]) / len(osmlrSegments)"
   ]
  },
  {
   "cell_type": "code",
   "execution_count": null,
   "metadata": {
    "collapsed": true,
    "deletable": true,
    "editable": true
   },
   "outputs": [],
   "source": []
  }
 ],
 "metadata": {
  "kernelspec": {
   "display_name": "Python 2",
   "language": "python",
   "name": "python2"
  },
  "language_info": {
   "codemirror_mode": {
    "name": "ipython",
    "version": 2
   },
   "file_extension": ".py",
   "mimetype": "text/x-python",
   "name": "python",
   "nbconvert_exporter": "python",
   "pygments_lexer": "ipython2",
   "version": "2.7.13"
  }
 },
 "nbformat": 4,
 "nbformat_minor": 0
}
