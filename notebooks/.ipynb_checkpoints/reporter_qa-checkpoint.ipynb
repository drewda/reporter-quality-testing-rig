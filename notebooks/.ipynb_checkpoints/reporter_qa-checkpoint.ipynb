{
 "cells": [
  {
   "cell_type": "code",
   "execution_count": 1,
   "metadata": {
    "collapsed": false,
    "deletable": true,
    "editable": true
   },
   "outputs": [],
   "source": [
    "from __future__ import division\n",
    "import requests\n",
    "import time as t\n",
    "from mpl_toolkits.basemap import Basemap\n",
    "from shapely.geometry import mapping, shape\n",
    "from matplotlib import pyplot as plt\n",
    "import numpy as np\n",
    "import os\n",
    "import urllib\n",
    "import json\n",
    "import pandas as pd\n",
    "from random import shuffle\n",
    "from geojson import LineString, Feature, Point, FeatureCollection, dumps\n",
    "import itertools\n",
    "%matplotlib inline\n",
    "import sys; sys.path.insert(0, os.path.abspath('..'));\n",
    "import validator.validator as val\n",
    "from ipyleaflet import (\n",
    "    Map,\n",
    "    Marker,\n",
    "    TileLayer, ImageOverlay,\n",
    "    Polyline, Polygon, Rectangle, Circle, CircleMarker,\n",
    "    GeoJSON,\n",
    "    DrawControl\n",
    ")"
   ]
  },
  {
   "cell_type": "markdown",
   "metadata": {
    "deletable": true,
    "editable": true
   },
   "source": [
    "# Open Traffic Reporter Validation Service "
   ]
  },
  {
   "cell_type": "markdown",
   "metadata": {
    "deletable": true,
    "editable": true
   },
   "source": [
    "### 1. Generate Random Routes from Google Maps API"
   ]
  },
  {
   "cell_type": "code",
   "execution_count": 2,
   "metadata": {
    "collapsed": true,
    "deletable": true,
    "editable": true
   },
   "outputs": [],
   "source": [
    "mapsApiKey = os.environ.get('GOOGLE_MAPS')"
   ]
  },
  {
   "cell_type": "code",
   "execution_count": 2,
   "metadata": {
    "collapsed": false,
    "deletable": true,
    "editable": true
   },
   "outputs": [],
   "source": [
    "# routeList = val.get_POI_routes('San Francisco', 100, mapsApiKey)\n",
    "routeList = [({\"home\":{\"lat\":37.8261, \"lon\": -122.25872}}, {\"work\":{\"lat\":37.790168, \"lon\":-122.402264}})]"
   ]
  },
  {
   "cell_type": "markdown",
   "metadata": {
    "deletable": true,
    "editable": true
   },
   "source": [
    "### 2. Iterate through each route, saving results to the ../data/ directory"
   ]
  },
  {
   "cell_type": "code",
   "execution_count": 11,
   "metadata": {
    "collapsed": false,
    "deletable": true,
    "editable": true,
    "scrolled": true
   },
   "outputs": [],
   "source": [
    "df = pd.DataFrame(columns=['route','noise','score','route_url','trace_attr_url','reporter_url'])\n",
    "outDfRow = -1\n",
    "\n",
    "for i, rteCoords in enumerate(routeList):\n",
    "    \n",
    "    stName = rteCoords[0].keys()[0]\n",
    "    endName = rteCoords[1].keys()[0]\n",
    "    stLat = rteCoords[0].values()[0][\"lat\"]\n",
    "    stLon = rteCoords[0].values()[0][\"lon\"]\n",
    "    endLat = rteCoords[1].values()[0][\"lat\"]\n",
    "    endLon = rteCoords[1].values()[0][\"lon\"]\n",
    "    shape, routeUrl = val.get_route_shape(stLat, stLon, endLat, endLon)\n",
    "    edges, traceAttrUrl = val.get_trace_attrs(shape)\n",
    "    \n",
    "    noiseLevels = np.linspace(0, 100, 11)\n",
    "    scores = []\n",
    "    \n",
    "    for noise in noiseLevels:\n",
    "        \n",
    "        noise = round(noise,3)\n",
    "        outDfRow += 1\n",
    "        routeName = '{0}_to_{1}'.format(stName, endName)\n",
    "        df.loc[outDfRow, ['route', 'noise','route_url','trace_attr_url']] = [routeName, noise, routeUrl, traceAttrUrl]\n",
    "        dfEdges = val.format_edge_df(edges)\n",
    "        jsonDict, geojson = val.synthesize_gps(edges, shape, '2768', noise=noise)\n",
    "        if jsonDict is None or geojson is None:\n",
    "            msg = \"Trace attributes tried to call more edges than are present in the route shape\".format(\n",
    "            routeName)\n",
    "            df.loc[outDfRow, ['score', 'reporter_url']] = [None, msg]\n",
    "            continue\n",
    "        segments, reportUrl = val.get_reporter_segments(jsonDict)\n",
    "        if segments is None:\n",
    "            continue\n",
    "        elif segments == 0:\n",
    "            msg = 'Reporter found 0 segments for {0} at noise level {1}'.format(\n",
    "            routeName, noise)\n",
    "            df.loc[outDfRow, ['score', 'reporter_url']] = [None, msg]\n",
    "            continue\n",
    "        matches, score = val.get_matches(segments, dfEdges)\n",
    "        df.loc[outDfRow, ['score', 'reporter_url']] = [score, reportUrl]\n",
    "        \n",
    "        matches.to_csv(\n",
    "            '../data/matches_{0}_to_{1}_w_{2}_m_noise.csv'.format(\n",
    "                stName, endName, str(noise), index=False))\n",
    "        with open('../data/trace_{0}_to_{1}_w_{2}_m_noise.geojson'.format(\n",
    "            stName, endName, str(noise)), 'w+') as fp:\n",
    "            json.dump(geojson, fp)"
   ]
  },
  {
   "cell_type": "markdown",
   "metadata": {
    "deletable": true,
    "editable": true
   },
   "source": [
    "### 3. Plot the Scores"
   ]
  },
  {
   "cell_type": "code",
   "execution_count": 15,
   "metadata": {
    "collapsed": true,
    "deletable": true,
    "editable": true
   },
   "outputs": [],
   "source": [
    "df['score'] = df['score'].astype(float)"
   ]
  },
  {
   "cell_type": "code",
   "execution_count": 16,
   "metadata": {
    "collapsed": false,
    "deletable": true,
    "editable": true
   },
   "outputs": [
    {
     "data": {
      "image/png": "[encoded data removed]",
      "text/plain": [
       "<matplotlib.figure.Figure at 0x7f0bb5d7e150>"
      ]
     },
     "metadata": {},
     "output_type": "display_data"
    }
   ],
   "source": [
    "fig, ax = plt.subplots(figsize=(12,8))\n",
    "df.boxplot(column='score',by='noise', ax=ax, grid=False)\n",
    "ax.set_xlabel('Noise (m)', fontsize=15)\n",
    "ax.set_ylabel('Match rate', fontsize=15)\n",
    "ax.set_title('')\n",
    "fig.suptitle('')\n",
    "fig.savefig('./../data/score_vs_noise.png')"
   ]
  },
  {
   "cell_type": "markdown",
   "metadata": {
    "deletable": true,
    "editable": true
   },
   "source": [
    "### 4. Visualize Routes"
   ]
  },
  {
   "cell_type": "markdown",
   "metadata": {
    "deletable": true,
    "editable": true
   },
   "source": [
    "##### Load JSON Routes "
   ]
  },
  {
   "cell_type": "code",
   "execution_count": 20,
   "metadata": {
    "collapsed": true
   },
   "outputs": [],
   "source": [
    "origin = 'home'\n",
    "destination = 'work'\n",
    "noise = 10.0"
   ]
  },
  {
   "cell_type": "code",
   "execution_count": 21,
   "metadata": {
    "collapsed": false,
    "deletable": true,
    "editable": true
   },
   "outputs": [],
   "source": [
    "with open(\"../data/trace_{0}_to_{1}_w_{2}_m_noise.geojson\".format(origin, destination, noise), \"r\") as f:\n",
    "    data=json.load(f)"
   ]
  },
  {
   "cell_type": "code",
   "execution_count": 22,
   "metadata": {
    "collapsed": false,
    "deletable": true,
    "editable": true
   },
   "outputs": [],
   "source": [
    "ctrLon, ctrLat = np.mean(np.array(data['features'][0]['geometry']['coordinates']),axis=0)"
   ]
  },
  {
   "cell_type": "markdown",
   "metadata": {
    "deletable": true,
    "editable": true
   },
   "source": [
    "##### Prepare Map"
   ]
  },
  {
   "cell_type": "code",
   "execution_count": 23,
   "metadata": {
    "collapsed": false,
    "deletable": true,
    "editable": true
   },
   "outputs": [
    {
     "data": {
      "application/vnd.jupyter.widget-view+json": {
       "model_id": "96ee42f3005e4e1eb661524ac9f8d9e8"
      }
     },
     "metadata": {},
     "output_type": "display_data"
    }
   ],
   "source": [
    "url = \"http://stamen-tiles-{s}.a.ssl.fastly.net/toner-lite/{z}/{x}/{y}.png\"\n",
    "provider = TileLayer(url=url, opacity=1)\n",
    "center = [ctrLat, ctrLon]\n",
    "zoom = 12\n",
    "m = Map(default_tiles=provider, center=center, zoom=zoom, width='1000px', height='600px' )\n",
    "m"
   ]
  },
  {
   "cell_type": "markdown",
   "metadata": {
    "deletable": true,
    "editable": true
   },
   "source": [
    "##### Add JSON to Map"
   ]
  },
  {
   "cell_type": "code",
   "execution_count": 24,
   "metadata": {
    "collapsed": true,
    "deletable": true,
    "editable": true
   },
   "outputs": [],
   "source": [
    "g = GeoJSON(data=data)"
   ]
  },
  {
   "cell_type": "code",
   "execution_count": 25,
   "metadata": {
    "collapsed": false,
    "deletable": true,
    "editable": true
   },
   "outputs": [],
   "source": [
    "m.add_layer(g)"
   ]
  },
  {
   "cell_type": "markdown",
   "metadata": {
    "deletable": true,
    "editable": true
   },
   "source": [
    "### 5. Save the Scores to Master File"
   ]
  },
  {
   "cell_type": "code",
   "execution_count": 7,
   "metadata": {
    "collapsed": false,
    "deletable": true,
    "editable": true
   },
   "outputs": [],
   "source": [
    "df.columns = [x.strip().replace(' ', '_') for x in df.columns]"
   ]
  },
  {
   "cell_type": "code",
   "execution_count": 8,
   "metadata": {
    "collapsed": true,
    "deletable": true,
    "editable": true
   },
   "outputs": [],
   "source": [
    "df.to_csv('../data/master_scores.csv', index=False)"
   ]
  }
 ],
 "metadata": {
  "kernelspec": {
   "display_name": "Python 2",
   "language": "python",
   "name": "python2"
  },
  "language_info": {
   "codemirror_mode": {
    "name": "ipython",
    "version": 2
   },
   "file_extension": ".py",
   "mimetype": "text/x-python",
   "name": "python",
   "nbconvert_exporter": "python",
   "pygments_lexer": "ipython2",
   "version": "2.7.13"
  }
 },
 "nbformat": 4,
 "nbformat_minor": 0
}
