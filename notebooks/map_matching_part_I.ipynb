{
 "cells": [
  {
   "cell_type": "markdown",
   "metadata": {
    "deletable": true,
    "editable": true
   },
   "source": [
    "_Since we announced [our collaboration with the World Bank and more partners to create the Open Traffic platform](https://mapzen.com/blog/announcing-open-traffic/), we’ve been busy. We’ve shared [two](https://mapzen.com/blog/open-traffic-osmlr-technical-preview/) [technical](https://mapzen.com/blog/osmlr-2nd-technical-preview/) previews of the OSMLR linear referencing system. Now we’re ready to share more about how we’re using [Mapzen Map Matching](https://mapzen.com/blog/map-matching/) to “snap” GPS-derived locations to OSMLR segments, and how we’re using a data-driven approach to evaluate and improve the algorithms._"
   ]
  },
  {
   "cell_type": "markdown",
   "metadata": {
    "deletable": true,
    "editable": true
   },
   "source": [
    "# A \"data-driven\" approach to improving map-matching, Part I"
   ]
  },
  {
   "cell_type": "markdown",
   "metadata": {
    "deletable": true,
    "editable": true
   },
   "source": [
    "Mapzen has been testing and matching GPS measurements from some of Open Traffic’s partners since development began, but one burning question remained: were our matches any good? Map-matching real-time GPS traces is one thing, but without on-the-ground knowledge about where the traces actually came from, it was impossible to to determine how close to — or far from — the truth our predictions were.\n",
    "\n",
    "Our in-house solution was to use Mapzen's very own [Turn-By-Turn](https://mapzen.com/products/turn-by-turn/) routing API to simulate fake GPS data, send the synthetic data through the [Mapzen Map Matching](https://mapzen.com/blog/map-matching/) service, and compare the results to the original routes used to simulate the fake traces. We have documented this process below:"
   ]
  },
  {
   "cell_type": "markdown",
   "metadata": {
    "deletable": true,
    "editable": true
   },
   "source": [
    "## 0. Setup test environment"
   ]
  },
  {
   "cell_type": "code",
   "execution_count": 3,
   "metadata": {
    "collapsed": true,
    "deletable": true,
    "editable": true
   },
   "outputs": [],
   "source": [
    "from __future__ import division\n",
    "from matplotlib import pyplot as plt\n",
    "from matplotlib import cm, colors, patheffects\n",
    "import numpy as np\n",
    "import os\n",
    "import glob\n",
    "import urllib\n",
    "import json\n",
    "import pandas as pd\n",
    "from random import shuffle, choice\n",
    "import pickle\n",
    "import sys; sys.path.insert(0, os.path.abspath('..'));\n",
    "import validator.validator as val\n",
    "%matplotlib inline"
   ]
  },
  {
   "cell_type": "markdown",
   "metadata": {
    "deletable": true,
    "editable": true
   },
   "source": [
    "#### User vars"
   ]
  },
  {
   "cell_type": "code",
   "execution_count": 2,
   "metadata": {
    "collapsed": true,
    "deletable": true,
    "editable": true
   },
   "outputs": [],
   "source": [
    "mapzenKey = os.environ.get('MAPZEN_API')\n",
    "gmapsKey = os.environ.get('GOOGLE_MAPS')"
   ]
  },
  {
   "cell_type": "markdown",
   "metadata": {
    "deletable": true,
    "editable": true
   },
   "source": [
    "## 1. Route Generation"
   ]
  },
  {
   "cell_type": "code",
   "execution_count": 3,
   "metadata": {
    "collapsed": true,
    "deletable": true,
    "editable": true
   },
   "outputs": [],
   "source": [
    "cityName = 'San Francisco'\n",
    "minRouteLen = 1     # specified in km\n",
    "maxRouteLen = 5     # specified in km\n",
    "numRoutes = 200"
   ]
  },
  {
   "cell_type": "markdown",
   "metadata": {
    "deletable": true,
    "editable": true
   },
   "source": [
    "#### Using Mapzen Venues (requires good [WOF](https://mapzen.com/documentation/wof/) coverage):"
   ]
  },
  {
   "cell_type": "code",
   "execution_count": 4,
   "metadata": {
    "collapsed": true,
    "deletable": true,
    "editable": true
   },
   "outputs": [],
   "source": [
    "routeList = val.get_routes_by_length(cityName, minRouteLen, maxRouteLen, numRoutes, apiKey=mapzenKey)"
   ]
  },
  {
   "cell_type": "markdown",
   "metadata": {
    "deletable": true,
    "editable": true
   },
   "source": [
    "#### Using Google Maps POIs (better for non-Western capitals):"
   ]
  },
  {
   "cell_type": "code",
   "execution_count": 5,
   "metadata": {
    "collapsed": true,
    "deletable": true,
    "editable": true
   },
   "outputs": [],
   "source": [
    "# routeList = val.get_POI_routes_by_length(cityName, minRouteLen, maxRouteLen, numRoutes, gmapsKey)"
   ]
  },
  {
   "cell_type": "markdown",
   "metadata": {
    "deletable": true,
    "editable": true
   },
   "source": [
    "A sample route:"
   ]
  },
  {
   "cell_type": "code",
   "execution_count": 9,
   "metadata": {
    "collapsed": false,
    "deletable": true,
    "editable": true,
    "scrolled": true
   },
   "outputs": [
    {
     "data": {
      "text/plain": [
       "({u'Cabovida Dvelopments A Cal Ltd': {'lat': 37.775456, 'lon': -122.406369}},\n",
       " {u'Palomar Group': {'lat': 37.788245, 'lon': -122.409508}})"
      ]
     },
     "execution_count": 9,
     "metadata": {},
     "output_type": "execute_result"
    }
   ],
   "source": [
    "myRoute = routeList[2]\n",
    "myRoute"
   ]
  },
  {
   "cell_type": "markdown",
   "metadata": {
    "deletable": true,
    "editable": true
   },
   "source": [
    "## 2. Iterate Through Routes and Score the Matches"
   ]
  },
  {
   "cell_type": "markdown",
   "metadata": {
    "deletable": true,
    "editable": true
   },
   "source": [
    "#### Define the noise levels and sample rates used to generate synthetic GPS traces from the routes"
   ]
  },
  {
   "cell_type": "markdown",
   "metadata": {
    "deletable": true,
    "editable": true
   },
   "source": [
    "Now that we have a set of \"ground-truthed\" routes, meaning route coordinates and their associated road segments, we want to simulate what the GPS data recorded along these routes might look like. This involves two main steps:\n",
    "1. resampling the coordinates to reflect real-world GPS sample frequencies\n",
    "2. perturbing the coordinates to simulate the effect of GPS \"noise\"\n",
    "\n",
    "To resample the coordinates, we use the known speeds along each road segment to retain points along the route after every $n$ seconds.\n",
    "\n",
    "To simulate GPS noise, we randomly sample from a normal distribution with standard deviation equal to a specified level of noise (in meters). We then apply this vector of noise to a given coordinate pair, and use a rolling average to smooth out the change in noise between subsequent \"measurements\", recreating the phenomenon of GPS \"drift\".\n",
    "\n",
    "Since we are interested in assessing the performance of map-matching under a variety of different conditions, we define a range of realistic sample rates and noise levels:"
   ]
  },
  {
   "cell_type": "code",
   "execution_count": 5,
   "metadata": {
    "collapsed": true,
    "deletable": true,
    "editable": true
   },
   "outputs": [],
   "source": [
    "sampleRates = [1, 5, 10, 20, 30]    # specified in seconds\n",
    "noiseLevels = np.linspace(0, 100, 21)    # specified in meters"
   ]
  },
  {
   "cell_type": "markdown",
   "metadata": {
    "deletable": true,
    "editable": true
   },
   "source": [
    "#### Scoring & Validation"
   ]
  },
  {
   "cell_type": "markdown",
   "metadata": {
    "deletable": true,
    "editable": true
   },
   "source": [
    "In order to validate our matched routes, we need an effective method of scoring. Should Type I error (false negatives) carry as much weight as Type II (false negatives)? Should a longer mismatched segment carry a greater penalty than one that is shorter?"
   ]
  },
  {
   "cell_type": "markdown",
   "metadata": {
    "deletable": true,
    "editable": true
   },
   "source": [
    "We adopt the scoring mechanism proposed by [Newton and Krumm (2009)](https://www.microsoft.com/en-us/research/wp-content/uploads/2016/12/map-matching-ACM-GIS-camera-ready.pdf), upon whose map-matching algorithm the Meili service is based:"
   ]
  },
  {
   "cell_type": "markdown",
   "metadata": {
    "deletable": true,
    "editable": true
   },
   "source": [
    "<img src=\"krumm_newson_dist.png\" alt=\"Drawing\" style=\"width: 400px;\" align=\"center\"/>\n",
    "<center><i>From Newton and Krumm (2009)</i></center>"
   ]
  },
  {
   "cell_type": "markdown",
   "metadata": {
    "deletable": true,
    "editable": true
   },
   "source": [
    "In the above schematic, $\\text{d}_+$ refers to a false positive or Type I error, while $\\text{d}_-$ represents a false negative, or Type II error. The final reported error is a combination of both types of mismatches, weighted by their respective lengths."
   ]
  },
  {
   "cell_type": "markdown",
   "metadata": {},
   "source": [
    "#### Generate the scores"
   ]
  },
  {
   "cell_type": "markdown",
   "metadata": {},
   "source": [
    "Behind the scenes, the `get_route_metrics()` function will perform the following actions:\n",
    "1. resample points along a given route at the sample rate(s) specified in the previous cell\n",
    "2. apply gaussian noise to each of the resample points by sampling from a distribution with mean value(s) specified in the previous cell to sythesize a GPS trace along this route\n",
    "3. pass these synthetic measurements to the Open Traffic Reporter and record the matches it returns\n",
    "4. compare the segments on the \"matched\" route to the segments of the original route and score the results based on six different metrics explained below"
   ]
  },
  {
   "cell_type": "code",
   "execution_count": 9,
   "metadata": {
    "collapsed": true
   },
   "outputs": [],
   "source": [
    "matchDf, _, _ = val.get_route_metrics(routeList, sampleRates, noiseLevels, saveResults=False)"
   ]
  },
  {
   "cell_type": "markdown",
   "metadata": {
    "deletable": true,
    "editable": true
   },
   "source": [
    "Iterating through each our 200 routes at 5 sample rates and 21 levels of noise, we simulate 21,000 distinct GPS traces. We then pass each of these simulated traces through to the map-matching service, and compare the resulting routes against the ground-truthed, pre-perturbation route segments."
   ]
  },
  {
   "cell_type": "markdown",
   "metadata": {
    "deletable": true,
    "editable": true
   },
   "source": [
    "![my gif](make-some-noise.gif)\n",
    "\n",
    "<center><i>A route (red line) resampled at 1 s intervals (red dots) and perturbed at 5 different levels of noise (blue dots). The matched route is shown as a blue line.</i></center>"
   ]
  },
  {
   "cell_type": "markdown",
   "metadata": {},
   "source": [
    "The previous step will typically take a long time to run if you are generating a lot of routes (> 10), so it's a good idea to save your dataframes for later use."
   ]
  },
  {
   "cell_type": "code",
   "execution_count": 10,
   "metadata": {
    "collapsed": true
   },
   "outputs": [],
   "source": [
    "matchDf.to_csv('{0}_{1}_matches.csv'.format(cityName, str(numRoutes)), index=False)"
   ]
  },
  {
   "cell_type": "markdown",
   "metadata": {},
   "source": [
    "#### Check for pattern failure"
   ]
  },
  {
   "cell_type": "markdown",
   "metadata": {},
   "source": [
    "Ensure that the Reporter is not failing frequently for any particular sample rate or noise level"
   ]
  },
  {
   "cell_type": "code",
   "execution_count": 6,
   "metadata": {
    "collapsed": false
   },
   "outputs": [
    {
     "data": {
      "image/png": "[encoded data removed]",
      "text/plain": [
       "<matplotlib.figure.Figure at 0x7f38e5fbd750>"
      ]
     },
     "metadata": {},
     "output_type": "display_data"
    }
   ],
   "source": [
    "val.plot_pattern_failure(matchDf, sampleRates, noiseLevels)"
   ]
  },
  {
   "cell_type": "markdown",
   "metadata": {},
   "source": [
    "## 3. Visualize the Scores"
   ]
  },
  {
   "cell_type": "markdown",
   "metadata": {
    "deletable": true,
    "editable": true
   },
   "source": [
    "The graphs below represent the median scores for 6 error metrics applied to each of our 21,000 routes, broken down by sample rate and noise level. Plots in the left column are based solely on error rate, i.e the percentage of Type I, Type II, or Type I/II mismatches. The right-hand column shows the same metrics as the left, but weighted by segment length. The top right plot thus represents the metric used by Newton and Krumm, and the two plots below it represent the same value broken out by error type."
   ]
  },
  {
   "cell_type": "code",
   "execution_count": 6,
   "metadata": {
    "collapsed": false,
    "deletable": true,
    "editable": true,
    "scrolled": false
   },
   "outputs": [
    {
     "data": {
      "image/png": "[encoded data removed]",
      "text/plain": [
       "<matplotlib.figure.Figure at 0x7f66be3fff90>"
      ]
     },
     "metadata": {},
     "output_type": "display_data"
    }
   ],
   "source": [
    "val.plot_distance_metrics(matchDf, sampleRates)"
   ]
  },
  {
   "cell_type": "markdown",
   "metadata": {
    "deletable": true,
    "editable": true
   },
   "source": [
    "#### Results"
   ]
  },
  {
   "cell_type": "markdown",
   "metadata": {
    "deletable": true,
    "editable": true
   },
   "source": [
    "There is a lot of valuable information to be gleaned from our validation process. The main takeaways are summarized below:\n",
    "1. Below 50 m of noise, we obtain a median match accuracy of **90%** or better.\n",
    "2. Clearly the positional accuracy of GPS data (vis-a-vis noise level) has a huge impact on rate of mismatch. However, there is little to no impact on error rates at noise levels below 20 m. \n",
    "3. Sample rate also has a significant effect on performance. What that effect is, however, depends significantly on the positional accuracy of the data. Higher frequency sample rates clearly perform better at lower levels of noise, but there exists a very consistent point of inflection (~70-80 m) about which the performance of low sample rate GPS traces (red) improves relative to that of the higher sample rates (blue). These results, consistent with the findings of Newton and Krumm (2009), suggest that lower sample rates tend to be more robust against mismatch error at higher levels of noise.\n",
    "4. There does not appear to be a significant difference in the trends between the distance-based error metrics and those that do not consider segment length.\n",
    "5. Similarly, the Type I, Type II, and Type I/II error rates very closely track one another, although the pattern of inflection described in (2) appears more pronounced in the Type II-based metrics."
   ]
  },
  {
   "cell_type": "markdown",
   "metadata": {
    "deletable": true,
    "editable": true
   },
   "source": [
    "Ultimately, our validation allows us to state with a greater measure of confidence that our map-matching is working as intended, at least in San Francisco:"
   ]
  },
  {
   "cell_type": "markdown",
   "metadata": {
    "deletable": true,
    "editable": true
   },
   "source": [
    "<img src=\"example_2.png\" alt=\"Drawing\" style=\"width: 70%;\"/>\n",
    "\n",
    "<center><i>A perfect match at 65 m of noise (10 s sample rate)</i></center>"
   ]
  },
  {
   "cell_type": "markdown",
   "metadata": {
    "deletable": true,
    "editable": true
   },
   "source": [
    "In the next installment of this series, we will see how we can actually _use_ these error metrics to optimize the performance of our map-matching algorithm based on the quality of the data made available to us."
   ]
  }
 ],
 "metadata": {
  "kernelspec": {
   "display_name": "Python 2",
   "language": "python",
   "name": "python2"
  },
  "language_info": {
   "codemirror_mode": {
    "name": "ipython",
    "version": 2
   },
   "file_extension": ".py",
   "mimetype": "text/x-python",
   "name": "python",
   "nbconvert_exporter": "python",
   "pygments_lexer": "ipython2",
   "version": "2.7.13"
  },
  "widgets": {
   "application/vnd.jupyter.widget-state+json": {
    "state": {
     "01e5a59d87ad4d659a223710ff3f32c2": {
      "model_module": "jupyter-js-widgets",
      "model_module_version": "~2.1.4",
      "model_name": "LayoutModel",
      "state": {
       "_model_module_version": "~2.1.4",
       "_view_module_version": "~2.1.4",
       "align_self": "stretch",
       "height": "400px"
      }
     },
     "0572abfdbd1b4f4e9340ca282fe292e1": {
      "model_module": "jupyter-leaflet",
      "model_module_version": "*",
      "model_name": "LeafletMapModel",
      "state": {
       "_dom_classes": [],
       "_east": -122.14874267578125,
       "_model_module_version": "*",
       "_north": 37.86862005954327,
       "_south": 37.76012993823887,
       "_view_module_version": "*",
       "_west": -122.49549865722656,
       "center": [
        37.81439492742204,
        -122.32212066650389
       ],
       "layers": [
        "IPY_MODEL_d0d9aff14ea74ec3b3cbd5ead5b095ce",
        "IPY_MODEL_71722b8bb4e34497bd7d56d3e40b60b5"
       ],
       "layout": "IPY_MODEL_f23bba665dae4881bb4b041b038da86e",
       "msg_throttle": 1,
       "options": [
        "keyboard_pan_offset",
        "tap",
        "attribution_control",
        "max_zoom",
        "min_zoom",
        "bounce_at_zoom_limits",
        "keyboard",
        "scroll_wheel_zoom",
        "dragging",
        "inertia_max_speed",
        "close_popup_on_click",
        "zoom_control",
        "box_zoom",
        "double_click_zoom",
        "tap_tolerance",
        "zoom_start",
        "keyboard_zoom_offset",
        "inertia_deceleration",
        "inertia",
        "center",
        "zoom",
        "world_copy_jump",
        "zoom_animation_threshold",
        "touch_zoom"
       ]
      }
     },
     "08761ee98b6444308aaec7832fd07d46": {
      "model_module": "jupyter-leaflet",
      "model_module_version": "*",
      "model_name": "LeafletMapModel",
      "state": {
       "_dom_classes": [],
       "_east": -122.2361183166504,
       "_model_module_version": "*",
       "_north": 37.83785218952998,
       "_south": 37.81073329481209,
       "_view_module_version": "*",
       "_west": -122.3228073120117,
       "center": [
        37.824293987814805,
        -122.27946281433104
       ],
       "layers": [
        "IPY_MODEL_56a60fb9d66241f8aaa01a3e82e11940",
        "IPY_MODEL_e2874f8b46494beeacf9bd96ed1f75e2"
       ],
       "layout": "IPY_MODEL_d86fd811e6ec4298a952d1b8f7317b8c",
       "msg_throttle": 1,
       "options": [
        "keyboard_pan_offset",
        "tap",
        "attribution_control",
        "max_zoom",
        "min_zoom",
        "bounce_at_zoom_limits",
        "keyboard",
        "scroll_wheel_zoom",
        "dragging",
        "inertia_max_speed",
        "close_popup_on_click",
        "zoom_control",
        "box_zoom",
        "double_click_zoom",
        "tap_tolerance",
        "zoom_start",
        "keyboard_zoom_offset",
        "inertia_deceleration",
        "inertia",
        "center",
        "zoom",
        "world_copy_jump",
        "zoom_animation_threshold",
        "touch_zoom"
       ],
       "zoom": 14
      }
     },
     "13299692f7354a2495b36604442dc9bf": {
      "model_module": "jupyter-leaflet",
      "model_module_version": "*",
      "model_name": "LeafletGeoJSONModel",
      "state": {
       "_model_module_version": "*",
       "_view_module_version": "*",
       "data": {
        "features": [
         {
          "geometry": {
           "coordinates": [
            [
             -122.258927,
             37.826179
            ],
            [
             -122.259758,
             37.824851
            ],
            [
             -122.260468,
             37.825031
            ],
            [
             -122.26056,
             37.825054
            ],
            [
             -122.261612,
             37.825302
            ],
            [
             -122.262452,
             37.825485
            ],
            [
             -122.26355,
             37.825736
            ],
            [
             -122.265191,
             37.826457
            ],
            [
             -122.265145,
             37.826622
            ],
            [
             -122.265053,
             37.826965
            ],
            [
             -122.265038,
             37.827041
            ],
            [
             -122.264985,
             37.82722
            ],
            [
             -122.264946,
             37.827369
            ],
            [
             -122.264908,
             37.827518
            ],
            [
             -122.264718,
             37.828216
            ],
            [
             -122.264672,
             37.828392
            ],
            [
             -122.264649,
             37.828464
            ],
            [
             -122.264481,
             37.829105
            ],
            [
             -122.264451,
             37.829204
            ],
            [
             -122.265671,
             37.829391
            ],
            [
             -122.266037,
             37.829448
            ],
            [
             -122.267914,
             37.829746
            ],
            [
             -122.268425,
             37.82983
            ],
            [
             -122.268235,
             37.830585
            ],
            [
             -122.268006,
             37.831485
            ],
            [
             -122.26783,
             37.832183
            ],
            [
             -122.267655,
             37.832878
            ],
            [
             -122.267479,
             37.833583
            ],
            [
             -122.267304,
             37.834285
            ],
            [
             -122.267235,
             37.834526
            ],
            [
             -122.266694,
             37.834316
            ],
            [
             -122.266717,
             37.834079
            ],
            [
             -122.266785,
             37.833694
            ],
            [
             -122.266861,
             37.833301
            ],
            [
             -122.266854,
             37.833156
            ],
            [
             -122.267075,
             37.83226
            ],
            [
             -122.267174,
             37.83152
            ],
            [
             -122.26722,
             37.831188
            ],
            [
             -122.267411,
             37.829868
            ],
            [
             -122.267685,
             37.828845
            ],
            [
             -122.271874,
             37.82545
            ],
            [
             -122.272416,
             37.825569
            ],
            [
             -122.274903,
             37.82608
            ],
            [
             -122.275399,
             37.826187
            ],
            [
             -122.277764,
             37.826637
            ],
            [
             -122.278115,
             37.826717
            ],
            [
             -122.281449,
             37.827484
            ],
            [
             -122.284462,
             37.827342
            ],
            [
             -122.284836,
             37.827255
            ],
            [
             -122.288613,
             37.82653
            ],
            [
             -122.290474,
             37.826992
            ],
            [
             -122.29641,
             37.827289
            ],
            [
             -122.302109,
             37.826045
            ],
            [
             -122.302643,
             37.825931
            ],
            [
             -122.303048,
             37.825843
            ],
            [
             -122.303399,
             37.825771
            ],
            [
             -122.313317,
             37.824855
            ],
            [
             -122.313836,
             37.824779
            ],
            [
             -122.31437,
             37.824687
            ],
            [
             -122.319665,
             37.823436
            ],
            [
             -122.320519,
             37.823154
            ],
            [
             -122.327797,
             37.822177
            ],
            [
             -122.360566,
             37.814331
            ],
            [
             -122.361306,
             37.813827
            ],
            [
             -122.364403,
             37.810798
            ],
            [
             -122.364899,
             37.810344
            ],
            [
             -122.365059,
             37.810199
            ],
            [
             -122.366326,
             37.808982
            ],
            [
             -122.367341,
             37.808082
            ],
            [
             -122.388276,
             37.788528
            ],
            [
             -122.391091,
             37.785919
            ],
            [
             -122.391472,
             37.785644
            ],
            [
             -122.395371,
             37.785949
            ],
            [
             -122.39576,
             37.786258
            ],
            [
             -122.395714,
             37.787372
            ],
            [
             -122.395585,
             37.787475
            ],
            [
             -122.395173,
             37.787799
            ],
            [
             -122.394959,
             37.787971
            ],
            [
             -122.394242,
             37.788532
            ],
            [
             -122.394402,
             37.788661
            ],
            [
             -122.394845,
             37.789005
            ],
            [
             -122.39515,
             37.78923
            ],
            [
             -122.395363,
             37.789402
            ],
            [
             -122.395707,
             37.789672
            ],
            [
             -122.396042,
             37.789939
            ],
            [
             -122.396172,
             37.790046
            ],
            [
             -122.396447,
             37.790264
            ],
            [
             -122.396691,
             37.790462
            ],
            [
             -122.397164,
             37.790836
            ],
            [
             -122.397248,
             37.790904
            ],
            [
             -122.397545,
             37.791149
            ],
            [
             -122.398301,
             37.791732
            ],
            [
             -122.39853,
             37.792022
            ],
            [
             -122.398613,
             37.792411
            ],
            [
             -122.399788,
             37.792259
            ],
            [
             -122.400963,
             37.792118
            ],
            [
             -122.401635,
             37.79203
            ],
            [
             -122.40178,
             37.792015
            ],
            [
             -122.401886,
             37.791999
            ],
            [
             -122.402199,
             37.791961
            ],
            [
             -122.402596,
             37.791908
            ],
            [
             -122.402413,
             37.790977
            ],
            [
             -122.402245,
             37.790172
            ]
           ],
           "type": "LineString"
          },
          "properties": {
           "style": {
            "color": "#ff0000",
            "weight": "3px"
           }
          },
          "type": "Feature"
         },
         {
          "geometry": {
           "coordinates": [
            [
             -122.258927,
             37.826179
            ],
            [
             -122.25975749550702,
             37.824851593307166
            ],
            [
             -122.26046956983906,
             37.825030674486285
            ],
            [
             -122.26055972242052,
             37.825054799679734
            ],
            [
             -122.26161134672381,
             37.825301711546096
            ],
            [
             -122.26245361176088,
             37.82548383603421
            ],
            [
             -122.26355073677642,
             37.825736233041816
            ],
            [
             -122.26519033164523,
             37.82645788402774
            ],
            [
             -122.26514451491863,
             37.826621465071085
            ],
            [
             -122.26505340136754,
             37.82696432821913
            ],
            [
             -122.26503626985367,
             37.82704049597246
            ],
            [
             -122.26498512837209,
             37.82722156706177
            ],
            [
             -122.26494750352163,
             37.82736980014158
            ],
            [
             -122.26490765213603,
             37.827518800519265
            ],
            [
             -122.2647188549199,
             37.828215761369876
            ],
            [
             -122.2646722662703,
             37.828392960598826
            ],
            [
             -122.26464927215196,
             37.82846437743603
            ],
            [
             -122.2644813491854,
             37.829105898333054
            ],
            [
             -122.26444944588417,
             37.82920430976748
            ],
            [
             -122.26567018065877,
             37.829391221799
            ],
            [
             -122.26603598198588,
             37.8294478750824
            ],
            [
             -122.26791340944457,
             37.82974566761559
            ],
            [
             -122.26842333537624,
             37.829829645174314
            ],
            [
             -122.26823396000955,
             37.83058445780019
            ],
            [
             -122.26800592188123,
             37.831485043060574
            ],
            [
             -122.26782854240813,
             37.83218291877507
            ],
            [
             -122.26765519403286,
             37.83287842088804
            ],
            [
             -122.26747897182948,
             37.83358352753642
            ],
            [
             -122.26730321682355,
             37.83428562246266
            ],
            [
             -122.26723410821563,
             37.8345261679236
            ],
            [
             -122.26669373137511,
             37.83431532944538
            ],
            [
             -122.26671730355713,
             37.834078908785514
            ],
            [
             -122.2667855831627,
             37.83369428372545
            ],
            [
             -122.26686099278025,
             37.833300560701225
            ],
            [
             -122.2668531719699,
             37.833155048184494
            ],
            [
             -122.26707544387563,
             37.83226042024258
            ],
            [
             -122.26717419677502,
             37.831521194916476
            ],
            [
             -122.26721986000433,
             37.83118773876957
            ],
            [
             -122.26741097579857,
             37.82986779563529
            ],
            [
             -122.26768516422953,
             37.82884430319194
            ],
            [
             -122.27187361296406,
             37.825450215602174
            ],
            [
             -122.27241671044533,
             37.82556783327931
            ],
            [
             -122.27490239013225,
             37.82607990124206
            ],
            [
             -122.27539883998958,
             37.82618670117648
            ],
            [
             -122.27776524055324,
             37.82663743423913
            ],
            [
             -122.27811499397112,
             37.82671651881301
            ],
            [
             -122.28144793746577,
             37.827483855494044
            ],
            [
             -122.28446208483432,
             37.827343601057606
            ],
            [
             -122.28483564702536,
             37.8272553071776
            ],
            [
             -122.28861390851836,
             37.82653064119628
            ],
            [
             -122.29047311004922,
             37.82699225477761
            ],
            [
             -122.2964092325731,
             37.8272896696011
            ],
            [
             -122.30210856553752,
             37.82604580714813
            ],
            [
             -122.30264308869859,
             37.82593078104162
            ],
            [
             -122.30304862330414,
             37.825843949149785
            ],
            [
             -122.3033984498631,
             37.825769854978766
            ],
            [
             -122.31331752532321,
             37.824854405811
            ],
            [
             -122.3138367408031,
             37.824778785402664
            ],
            [
             -122.31437173499818,
             37.824687229892646
            ],
            [
             -122.31966561672469,
             37.82343688273471
            ],
            [
             -122.32051907953237,
             37.823155041773276
            ],
            [
             -122.32779687130193,
             37.82217727838957
            ],
            [
             -122.36056745392591,
             37.81433165268696
            ],
            [
             -122.36130587751633,
             37.81382830538016
            ],
            [
             -122.36440244135228,
             37.81079682807584
            ],
            [
             -122.36489725796359,
             37.81034315869402
            ],
            [
             -122.36505786012903,
             37.810199188053346
            ],
            [
             -122.36632613793664,
             37.80898220833294
            ],
            [
             -122.36734037609261,
             37.8080821673627
            ],
            [
             -122.38827666442775,
             37.78852788531561
            ],
            [
             -122.39109192029508,
             37.785918321765145
            ],
            [
             -122.39147204083406,
             37.78564460200333
            ],
            [
             -122.39537268318092,
             37.78594891099031
            ],
            [
             -122.39576053498878,
             37.786257467955686
            ],
            [
             -122.39571430286206,
             37.787372317240205
            ],
            [
             -122.39558568300254,
             37.787474855170736
            ],
            [
             -122.3951730394276,
             37.78779916219866
            ],
            [
             -122.39495882006774,
             37.78797098297421
            ],
            [
             -122.39424128501744,
             37.788531347237374
            ],
            [
             -122.39440203856529,
             37.78866118494586
            ],
            [
             -122.39484450902013,
             37.789005737624954
            ],
            [
             -122.3951504863976,
             37.78922914451908
            ],
            [
             -122.39536314825271,
             37.78940175902921
            ],
            [
             -122.39570587898947,
             37.78967205731027
            ],
            [
             -122.39604245400366,
             37.78993903520659
            ],
            [
             -122.39617052288483,
             37.79004861957779
            ],
            [
             -122.39644665469145,
             37.7902653555888
            ],
            [
             -122.39669159817937,
             37.79046242920652
            ],
            [
             -122.39716381126642,
             37.79083509832097
            ],
            [
             -122.39724906141136,
             37.79090497376009
            ],
            [
             -122.39754269795142,
             37.79114906990417
            ],
            [
             -122.39829869868024,
             37.79173267110286
            ],
            [
             -122.3985278087307,
             37.79202085575196
            ],
            [
             -122.39861362962549,
             37.792411525036286
            ],
            [
             -122.39978661391171,
             37.79225846617365
            ],
            [
             -122.4009640684255,
             37.79211720572452
            ],
            [
             -122.4016354605831,
             37.79203020705653
            ],
            [
             -122.40178107922587,
             37.79201580343752
            ],
            [
             -122.40188565882843,
             37.79199924198402
            ],
            [
             -122.40219908420043,
             37.79196182013076
            ],
            [
             -122.40259562925368,
             37.79190807939962
            ],
            [
             -122.40241189598974,
             37.7909776432656
            ],
            [
             -122.40224469812459,
             37.790172259731065
            ]
           ],
           "type": "LineString"
          },
          "properties": {
           "style": {
            "color": "#0000ff",
            "weight": "3px"
           }
          },
          "type": "Feature"
         }
        ],
        "type": "FeatureCollection"
       },
       "msg_throttle": 1
      }
     },
     "24e18f20dda24ae994982e648ff0733b": {
      "model_module": "jupyter-leaflet",
      "model_module_version": "*",
      "model_name": "LeafletGeoJSONModel",
      "state": {
       "_model_module_version": "*",
       "_view_module_version": "*",
       "data": {
        "features": [
         {
          "geometry": {
           "coordinates": [
            [
             -122.258927,
             37.826179
            ],
            [
             -122.259758,
             37.824851
            ],
            [
             -122.260468,
             37.825031
            ],
            [
             -122.26056,
             37.825054
            ],
            [
             -122.261612,
             37.825302
            ],
            [
             -122.262452,
             37.825485
            ],
            [
             -122.26355,
             37.825736
            ],
            [
             -122.265191,
             37.826457
            ],
            [
             -122.265145,
             37.826622
            ],
            [
             -122.265053,
             37.826965
            ],
            [
             -122.265038,
             37.827041
            ],
            [
             -122.264985,
             37.82722
            ],
            [
             -122.264946,
             37.827369
            ],
            [
             -122.264908,
             37.827518
            ],
            [
             -122.264718,
             37.828216
            ],
            [
             -122.264672,
             37.828392
            ],
            [
             -122.264649,
             37.828464
            ],
            [
             -122.264481,
             37.829105
            ],
            [
             -122.264451,
             37.829204
            ],
            [
             -122.265671,
             37.829391
            ],
            [
             -122.266037,
             37.829448
            ],
            [
             -122.267914,
             37.829746
            ],
            [
             -122.268425,
             37.82983
            ],
            [
             -122.268235,
             37.830585
            ],
            [
             -122.268006,
             37.831485
            ],
            [
             -122.26783,
             37.832183
            ],
            [
             -122.267655,
             37.832878
            ],
            [
             -122.267479,
             37.833583
            ],
            [
             -122.267304,
             37.834285
            ],
            [
             -122.267235,
             37.834526
            ],
            [
             -122.266694,
             37.834316
            ],
            [
             -122.266717,
             37.834079
            ],
            [
             -122.266785,
             37.833694
            ],
            [
             -122.266861,
             37.833301
            ],
            [
             -122.266854,
             37.833156
            ],
            [
             -122.267075,
             37.83226
            ],
            [
             -122.267174,
             37.83152
            ],
            [
             -122.26722,
             37.831188
            ],
            [
             -122.267411,
             37.829868
            ],
            [
             -122.267685,
             37.828845
            ],
            [
             -122.271874,
             37.82545
            ],
            [
             -122.272416,
             37.825569
            ],
            [
             -122.274903,
             37.82608
            ],
            [
             -122.275399,
             37.826187
            ],
            [
             -122.277764,
             37.826637
            ],
            [
             -122.278115,
             37.826717
            ],
            [
             -122.281449,
             37.827484
            ],
            [
             -122.284462,
             37.827342
            ],
            [
             -122.284836,
             37.827255
            ],
            [
             -122.288613,
             37.82653
            ],
            [
             -122.290474,
             37.826992
            ],
            [
             -122.29641,
             37.827289
            ],
            [
             -122.302109,
             37.826045
            ],
            [
             -122.302643,
             37.825931
            ],
            [
             -122.303048,
             37.825843
            ],
            [
             -122.303399,
             37.825771
            ],
            [
             -122.313317,
             37.824855
            ],
            [
             -122.313836,
             37.824779
            ],
            [
             -122.31437,
             37.824687
            ],
            [
             -122.319665,
             37.823436
            ],
            [
             -122.320519,
             37.823154
            ],
            [
             -122.327797,
             37.822177
            ],
            [
             -122.360566,
             37.814331
            ],
            [
             -122.361306,
             37.813827
            ],
            [
             -122.364403,
             37.810798
            ],
            [
             -122.364899,
             37.810344
            ],
            [
             -122.365059,
             37.810199
            ],
            [
             -122.366326,
             37.808982
            ],
            [
             -122.367341,
             37.808082
            ],
            [
             -122.388276,
             37.788528
            ],
            [
             -122.391091,
             37.785919
            ],
            [
             -122.391472,
             37.785644
            ],
            [
             -122.395371,
             37.785949
            ],
            [
             -122.39576,
             37.786258
            ],
            [
             -122.395714,
             37.787372
            ],
            [
             -122.395585,
             37.787475
            ],
            [
             -122.395173,
             37.787799
            ],
            [
             -122.394959,
             37.787971
            ],
            [
             -122.394242,
             37.788532
            ],
            [
             -122.394402,
             37.788661
            ],
            [
             -122.394845,
             37.789005
            ],
            [
             -122.39515,
             37.78923
            ],
            [
             -122.395363,
             37.789402
            ],
            [
             -122.395707,
             37.789672
            ],
            [
             -122.396042,
             37.789939
            ],
            [
             -122.396172,
             37.790046
            ],
            [
             -122.396447,
             37.790264
            ],
            [
             -122.396691,
             37.790462
            ],
            [
             -122.397164,
             37.790836
            ],
            [
             -122.397248,
             37.790904
            ],
            [
             -122.397545,
             37.791149
            ],
            [
             -122.398301,
             37.791732
            ],
            [
             -122.39853,
             37.792022
            ],
            [
             -122.398613,
             37.792411
            ],
            [
             -122.399788,
             37.792259
            ],
            [
             -122.400963,
             37.792118
            ],
            [
             -122.401635,
             37.79203
            ],
            [
             -122.40178,
             37.792015
            ],
            [
             -122.401886,
             37.791999
            ],
            [
             -122.402199,
             37.791961
            ],
            [
             -122.402596,
             37.791908
            ],
            [
             -122.402413,
             37.790977
            ],
            [
             -122.402245,
             37.790172
            ]
           ],
           "type": "LineString"
          },
          "properties": {
           "style": {
            "color": "#ff0000",
            "weight": "3px"
           }
          },
          "type": "Feature"
         },
         {
          "geometry": {
           "coordinates": [
            [
             -122.258927,
             37.826179
            ],
            [
             -122.25975734366456,
             37.824851232886644
            ],
            [
             -122.26046835590945,
             37.82503084801771
            ],
            [
             -122.26055955235243,
             37.82505380378044
            ],
            [
             -122.26161196731374,
             37.82530193317981
            ],
            [
             -122.26245196298122,
             37.82548538882121
            ],
            [
             -122.26354994658449,
             37.82573591405387
            ],
            [
             -122.26519099340919,
             37.82645720651
            ],
            [
             -122.26514455887492,
             37.82662186929103
            ],
            [
             -122.2650529057978,
             37.82696510553588
            ],
            [
             -122.26503788084734,
             37.827041083965696
            ],
            [
             -122.26498544767897,
             37.82722042609609
            ],
            [
             -122.26494611523431,
             37.82736913047003
            ],
            [
             -122.26490789889489,
             37.82751801908199
            ],
            [
             -122.26471807410121,
             37.828215918871244
            ],
            [
             -122.26467200991947,
             37.828391950548784
            ],
            [
             -122.26464903168035,
             37.828464003518725
            ],
            [
             -122.26448096494119,
             37.82910479263114
            ],
            [
             -122.26445116711089,
             37.829203854621596
            ],
            [
             -122.2656709613394,
             37.82939118251645
            ],
            [
             -122.26603690276035,
             37.82944817092304
            ],
            [
             -122.26791394981034,
             37.82974638442087
            ],
            [
             -122.26842460851248,
             37.829830100683836
            ],
            [
             -122.26823514042528,
             37.830584956453066
            ],
            [
             -122.268006162755,
             37.831485212105164
            ],
            [
             -122.26782996148297,
             37.8321829171986
            ],
            [
             -122.26765512347549,
             37.832877896632084
            ],
            [
             -122.26747889538554,
             37.83358285859294
            ],
            [
             -122.2673040825798,
             37.83428487477518
            ],
            [
             -122.26723520011387,
             37.83452623474031
            ],
            [
             -122.26669385715954,
             37.83431606657697
            ],
            [
             -122.26671705544915,
             37.83407916006213
            ],
            [
             -122.26678514030155,
             37.833693833077355
            ],
            [
             -122.26686104924853,
             37.83330100534718
            ],
            [
             -122.26685434977804,
             37.833155913371364
            ],
            [
             -122.26707502005209,
             37.832260017763005
            ],
            [
             -122.26717419402648,
             37.831519730866084
            ],
            [
             -122.26721991891247,
             37.8311880781754
            ],
            [
             -122.26741111271896,
             37.829867922512754
            ],
            [
             -122.26768470882644,
             37.82884499906672
            ],
            [
             -122.27187411709093,
             37.82545024508377
            ],
            [
             -122.27241574381145,
             37.825569256425666
            ],
            [
             -122.27490282784493,
             37.82608008413783
            ],
            [
             -122.27539877053782,
             37.82618714992438
            ],
            [
             -122.27776428509583,
             37.82663712101248
            ],
            [
             -122.27811505384794,
             37.82671708821293
            ],
            [
             -122.28144924322974,
             37.827483969181685
            ],
            [
             -122.28446173845226,
             37.82734203561326
            ],
            [
             -122.28483603966751,
             37.82725501860083
            ],
            [
             -122.28861301315132,
             37.82653003099907
            ],
            [
             -122.29047405257703,
             37.82699204965071
            ],
            [
             -122.29640966763361,
             37.82728897569444
            ],
            [
             -122.30210936863445,
             37.82604499767322
            ],
            [
             -122.30264311362988,
             37.82593108862708
            ],
            [
             -122.30304839433626,
             37.82584286328713
            ],
            [
             -122.30339887073313,
             37.82577110884684
            ],
            [
             -122.31331703569055,
             37.824854868777095
            ],
            [
             -122.31383590834123,
             37.82477882000026
            ],
            [
             -122.31436977275649,
             37.82468688165633
            ],
            [
             -122.31966501039263,
             37.823436095570706
            ],
            [
             -122.32051882873928,
             37.82315416803443
            ],
            [
             -122.32779727636989,
             37.82217714613479
            ],
            [
             -122.36056584880541,
             37.81433095167962
            ],
            [
             -122.36130568773189,
             37.81382690798553
            ],
            [
             -122.36440285289149,
             37.81079787076244
            ],
            [
             -122.36489872317789,
             37.81034388164665
            ],
            [
             -122.36505879285244,
             37.810199105830094
            ],
            [
             -122.3663259547885,
             37.808981888406464
            ],
            [
             -122.3673413402401,
             37.808082197058226
            ],
            [
             -122.38827646383842,
             37.788527873214676
            ],
            [
             -122.3910909229525,
             37.78591897577717
            ],
            [
             -122.39147185555927,
             37.78564393908398
            ],
            [
             -122.39537107287207,
             37.785949007896875
            ],
            [
             -122.39576025045301,
             37.78625797926232
            ],
            [
             -122.3957138185909,
             37.787372226036396
            ],
            [
             -122.39558516787649,
             37.787475009770425
            ],
            [
             -122.39517310024324,
             37.787798734223934
            ],
            [
             -122.39495887554679,
             37.787970878837136
            ],
            [
             -122.39424213977102,
             37.78853210899809
            ],
            [
             -122.3944017731551,
             37.7886610905701
            ],
            [
             -122.39484498309923,
             37.78900492469991
            ],
            [
             -122.3951499571567,
             37.789229891054326
            ],
            [
             -122.39536284660079,
             37.78940170623714
            ],
            [
             -122.39570691825735,
             37.78967237654137
            ],
            [
             -122.39604201573603,
             37.78993871965704
            ],
            [
             -122.39617187081087,
             37.79004611946138
            ],
            [
             -122.39644688830164,
             37.79026371702775
            ],
            [
             -122.3966910416635,
             37.790461958759295
            ],
            [
             -122.39716383291318,
             37.79083615733379
            ],
            [
             -122.39724764254886,
             37.790903995314174
            ],
            [
             -122.39754536379671,
             37.79114898001451
            ],
            [
             -122.39830116530517,
             37.79173225560059
            ],
            [
             -122.39852982431498,
             37.79202205276155
            ],
            [
             -122.39861303023174,
             37.792410816944866
            ],
            [
             -122.39978773721295,
             37.792259023088505
            ],
            [
             -122.4009630256362,
             37.79211800615279
            ],
            [
             -122.40163448183836,
             37.792029936638464
            ],
            [
             -122.40178005333631,
             37.792014929004814
            ],
            [
             -122.40188648293288,
             37.79199936922719
            ],
            [
             -122.40219895723766,
             37.791961109792794
            ],
            [
             -122.40259598211824,
             37.79190783326001
            ],
            [
             -122.40241333959627,
             37.79097679939431
            ],
            [
             -122.40224514093441,
             37.79017233570007
            ]
           ],
           "type": "LineString"
          },
          "properties": {
           "style": {
            "color": "#0000ff",
            "weight": "3px"
           }
          },
          "type": "Feature"
         }
        ],
        "type": "FeatureCollection"
       },
       "msg_throttle": 1
      }
     },
     "3945d5acbc8e4d77b558290956d96fb9": {
      "model_module": "jupyter-js-widgets",
      "model_module_version": "~2.1.4",
      "model_name": "LayoutModel",
      "state": {
       "_model_module_version": "~2.1.4",
       "_view_module_version": "~2.1.4",
       "align_self": "stretch",
       "height": "400px"
      }
     },
     "47cb8b71e5c64517a4f9c707b86b168b": {
      "model_module": "jupyter-leaflet",
      "model_module_version": "*",
      "model_name": "LeafletTileLayerModel",
      "state": {
       "_model_module_version": "*",
       "_view_module_version": "*",
       "msg_throttle": 1,
       "options": [
        "opacity",
        "attribution",
        "max_zoom",
        "detect_retina",
        "min_zoom",
        "tile_size"
       ],
       "url": "http://stamen-tiles-{s}.a.ssl.fastly.net/toner-lite/{z}/{x}/{y}.png"
      }
     },
     "4bdd132344d2414691b65d25f3adb70e": {
      "model_module": "jupyter-js-widgets",
      "model_module_version": "~2.1.4",
      "model_name": "LayoutModel",
      "state": {
       "_model_module_version": "~2.1.4",
       "_view_module_version": "~2.1.4",
       "align_self": "stretch",
       "height": "400px"
      }
     },
     "5409b2b4feb34c199174716f8fec6f5f": {
      "model_module": "jupyter-leaflet",
      "model_module_version": "*",
      "model_name": "LeafletMapModel",
      "state": {
       "_dom_classes": [],
       "_east": -122.23526000976561,
       "_model_module_version": "*",
       "_north": 37.841512476822736,
       "_south": 37.78726741375342,
       "_view_module_version": "*",
       "_west": -122.40863800048828,
       "center": [
        37.81439492742204,
        -122.32194900512695
       ],
       "layers": [
        "IPY_MODEL_ae5b128b26fa4ac98710d4958c019615",
        "IPY_MODEL_24e18f20dda24ae994982e648ff0733b"
       ],
       "layout": "IPY_MODEL_4bdd132344d2414691b65d25f3adb70e",
       "msg_throttle": 1,
       "options": [
        "keyboard_pan_offset",
        "tap",
        "attribution_control",
        "max_zoom",
        "min_zoom",
        "bounce_at_zoom_limits",
        "keyboard",
        "scroll_wheel_zoom",
        "dragging",
        "inertia_max_speed",
        "close_popup_on_click",
        "zoom_control",
        "box_zoom",
        "double_click_zoom",
        "tap_tolerance",
        "zoom_start",
        "keyboard_zoom_offset",
        "inertia_deceleration",
        "inertia",
        "center",
        "zoom",
        "world_copy_jump",
        "zoom_animation_threshold",
        "touch_zoom"
       ],
       "zoom": 13
      }
     },
     "56a60fb9d66241f8aaa01a3e82e11940": {
      "model_module": "jupyter-leaflet",
      "model_module_version": "*",
      "model_name": "LeafletTileLayerModel",
      "state": {
       "_model_module_version": "*",
       "_view_module_version": "*",
       "msg_throttle": 1,
       "options": [
        "opacity",
        "attribution",
        "max_zoom",
        "detect_retina",
        "min_zoom",
        "tile_size"
       ],
       "url": "http://stamen-tiles-{s}.a.ssl.fastly.net/toner-lite/{z}/{x}/{y}.png"
      }
     },
     "6e0cdffe4bfb4f4ea40e73dc5642a2f8": {
      "model_module": "jupyter-leaflet",
      "model_module_version": "*",
      "model_name": "LeafletTileLayerModel",
      "state": {
       "_model_module_version": "*",
       "_view_module_version": "*",
       "msg_throttle": 1,
       "options": [
        "opacity",
        "attribution",
        "max_zoom",
        "detect_retina",
        "min_zoom",
        "tile_size"
       ],
       "url": "http://stamen-tiles-{s}.a.ssl.fastly.net/toner-lite/{z}/{x}/{y}.png"
      }
     },
     "6e83519a2e4f4d55b9d6be7d8d0e2326": {
      "model_module": "jupyter-leaflet",
      "model_module_version": "*",
      "model_name": "LeafletGeoJSONModel",
      "state": {
       "_model_module_version": "*",
       "_view_module_version": "*",
       "data": {
        "features": [
         {
          "geometry": {
           "coordinates": [
            [
             -122.258927,
             37.826179
            ],
            [
             -122.259758,
             37.824851
            ],
            [
             -122.260468,
             37.825031
            ],
            [
             -122.26056,
             37.825054
            ],
            [
             -122.261612,
             37.825302
            ],
            [
             -122.262452,
             37.825485
            ],
            [
             -122.26355,
             37.825736
            ],
            [
             -122.265191,
             37.826457
            ],
            [
             -122.265145,
             37.826622
            ],
            [
             -122.265053,
             37.826965
            ],
            [
             -122.265038,
             37.827041
            ],
            [
             -122.264985,
             37.82722
            ],
            [
             -122.264946,
             37.827369
            ],
            [
             -122.264908,
             37.827518
            ],
            [
             -122.264718,
             37.828216
            ],
            [
             -122.264672,
             37.828392
            ],
            [
             -122.264649,
             37.828464
            ],
            [
             -122.264481,
             37.829105
            ],
            [
             -122.264451,
             37.829204
            ],
            [
             -122.265671,
             37.829391
            ],
            [
             -122.266037,
             37.829448
            ],
            [
             -122.267914,
             37.829746
            ],
            [
             -122.268425,
             37.82983
            ],
            [
             -122.268235,
             37.830585
            ],
            [
             -122.268006,
             37.831485
            ],
            [
             -122.26783,
             37.832183
            ],
            [
             -122.267655,
             37.832878
            ],
            [
             -122.267479,
             37.833583
            ],
            [
             -122.267304,
             37.834285
            ],
            [
             -122.267235,
             37.834526
            ],
            [
             -122.266694,
             37.834316
            ],
            [
             -122.266717,
             37.834079
            ],
            [
             -122.266785,
             37.833694
            ],
            [
             -122.266861,
             37.833301
            ],
            [
             -122.266854,
             37.833156
            ],
            [
             -122.267075,
             37.83226
            ],
            [
             -122.267174,
             37.83152
            ],
            [
             -122.26722,
             37.831188
            ],
            [
             -122.267411,
             37.829868
            ],
            [
             -122.267685,
             37.828845
            ],
            [
             -122.271874,
             37.82545
            ],
            [
             -122.272416,
             37.825569
            ],
            [
             -122.274903,
             37.82608
            ],
            [
             -122.275399,
             37.826187
            ],
            [
             -122.277764,
             37.826637
            ],
            [
             -122.278115,
             37.826717
            ],
            [
             -122.281449,
             37.827484
            ],
            [
             -122.284462,
             37.827342
            ],
            [
             -122.284836,
             37.827255
            ],
            [
             -122.288613,
             37.82653
            ],
            [
             -122.290474,
             37.826992
            ],
            [
             -122.29641,
             37.827289
            ],
            [
             -122.302109,
             37.826045
            ],
            [
             -122.302643,
             37.825931
            ],
            [
             -122.303048,
             37.825843
            ],
            [
             -122.303399,
             37.825771
            ],
            [
             -122.313317,
             37.824855
            ],
            [
             -122.313836,
             37.824779
            ],
            [
             -122.31437,
             37.824687
            ],
            [
             -122.319665,
             37.823436
            ],
            [
             -122.320519,
             37.823154
            ],
            [
             -122.327797,
             37.822177
            ],
            [
             -122.360566,
             37.814331
            ],
            [
             -122.361306,
             37.813827
            ],
            [
             -122.364403,
             37.810798
            ],
            [
             -122.364899,
             37.810344
            ],
            [
             -122.365059,
             37.810199
            ],
            [
             -122.366326,
             37.808982
            ],
            [
             -122.367341,
             37.808082
            ],
            [
             -122.388276,
             37.788528
            ],
            [
             -122.391091,
             37.785919
            ],
            [
             -122.391472,
             37.785644
            ],
            [
             -122.395371,
             37.785949
            ],
            [
             -122.39576,
             37.786258
            ],
            [
             -122.395714,
             37.787372
            ],
            [
             -122.395585,
             37.787475
            ],
            [
             -122.395173,
             37.787799
            ],
            [
             -122.394959,
             37.787971
            ],
            [
             -122.394242,
             37.788532
            ],
            [
             -122.394402,
             37.788661
            ],
            [
             -122.394845,
             37.789005
            ],
            [
             -122.39515,
             37.78923
            ],
            [
             -122.395363,
             37.789402
            ],
            [
             -122.395707,
             37.789672
            ],
            [
             -122.396042,
             37.789939
            ],
            [
             -122.396172,
             37.790046
            ],
            [
             -122.396447,
             37.790264
            ],
            [
             -122.396691,
             37.790462
            ],
            [
             -122.397164,
             37.790836
            ],
            [
             -122.397248,
             37.790904
            ],
            [
             -122.397545,
             37.791149
            ],
            [
             -122.398301,
             37.791732
            ],
            [
             -122.39853,
             37.792022
            ],
            [
             -122.398613,
             37.792411
            ],
            [
             -122.399788,
             37.792259
            ],
            [
             -122.400963,
             37.792118
            ],
            [
             -122.401635,
             37.79203
            ],
            [
             -122.40178,
             37.792015
            ],
            [
             -122.401886,
             37.791999
            ],
            [
             -122.402199,
             37.791961
            ],
            [
             -122.402596,
             37.791908
            ],
            [
             -122.402413,
             37.790977
            ],
            [
             -122.402245,
             37.790172
            ]
           ],
           "type": "LineString"
          },
          "properties": {
           "style": {
            "color": "#ff0000",
            "weight": "3px"
           }
          },
          "type": "Feature"
         },
         {
          "geometry": {
           "coordinates": [
            [
             -122.258927,
             37.826179
            ],
            [
             -122.25975734366456,
             37.824851232886644
            ],
            [
             -122.26046835590945,
             37.82503084801771
            ],
            [
             -122.26055955235243,
             37.82505380378044
            ],
            [
             -122.26161196731374,
             37.82530193317981
            ],
            [
             -122.26245196298122,
             37.82548538882121
            ],
            [
             -122.26354994658449,
             37.82573591405387
            ],
            [
             -122.26519099340919,
             37.82645720651
            ],
            [
             -122.26514455887492,
             37.82662186929103
            ],
            [
             -122.2650529057978,
             37.82696510553588
            ],
            [
             -122.26503788084734,
             37.827041083965696
            ],
            [
             -122.26498544767897,
             37.82722042609609
            ],
            [
             -122.26494611523431,
             37.82736913047003
            ],
            [
             -122.26490789889489,
             37.82751801908199
            ],
            [
             -122.26471807410121,
             37.828215918871244
            ],
            [
             -122.26467200991947,
             37.828391950548784
            ],
            [
             -122.26464903168035,
             37.828464003518725
            ],
            [
             -122.26448096494119,
             37.82910479263114
            ],
            [
             -122.26445116711089,
             37.829203854621596
            ],
            [
             -122.2656709613394,
             37.82939118251645
            ],
            [
             -122.26603690276035,
             37.82944817092304
            ],
            [
             -122.26791394981034,
             37.82974638442087
            ],
            [
             -122.26842460851248,
             37.829830100683836
            ],
            [
             -122.26823514042528,
             37.830584956453066
            ],
            [
             -122.268006162755,
             37.831485212105164
            ],
            [
             -122.26782996148297,
             37.8321829171986
            ],
            [
             -122.26765512347549,
             37.832877896632084
            ],
            [
             -122.26747889538554,
             37.83358285859294
            ],
            [
             -122.2673040825798,
             37.83428487477518
            ],
            [
             -122.26723520011387,
             37.83452623474031
            ],
            [
             -122.26669385715954,
             37.83431606657697
            ],
            [
             -122.26671705544915,
             37.83407916006213
            ],
            [
             -122.26678514030155,
             37.833693833077355
            ],
            [
             -122.26686104924853,
             37.83330100534718
            ],
            [
             -122.26685434977804,
             37.833155913371364
            ],
            [
             -122.26707502005209,
             37.832260017763005
            ],
            [
             -122.26717419402648,
             37.831519730866084
            ],
            [
             -122.26721991891247,
             37.8311880781754
            ],
            [
             -122.26741111271896,
             37.829867922512754
            ],
            [
             -122.26768470882644,
             37.82884499906672
            ],
            [
             -122.27187411709093,
             37.82545024508377
            ],
            [
             -122.27241574381145,
             37.825569256425666
            ],
            [
             -122.27490282784493,
             37.82608008413783
            ],
            [
             -122.27539877053782,
             37.82618714992438
            ],
            [
             -122.27776428509583,
             37.82663712101248
            ],
            [
             -122.27811505384794,
             37.82671708821293
            ],
            [
             -122.28144924322974,
             37.827483969181685
            ],
            [
             -122.28446173845226,
             37.82734203561326
            ],
            [
             -122.28483603966751,
             37.82725501860083
            ],
            [
             -122.28861301315132,
             37.82653003099907
            ],
            [
             -122.29047405257703,
             37.82699204965071
            ],
            [
             -122.29640966763361,
             37.82728897569444
            ],
            [
             -122.30210936863445,
             37.82604499767322
            ],
            [
             -122.30264311362988,
             37.82593108862708
            ],
            [
             -122.30304839433626,
             37.82584286328713
            ],
            [
             -122.30339887073313,
             37.82577110884684
            ],
            [
             -122.31331703569055,
             37.824854868777095
            ],
            [
             -122.31383590834123,
             37.82477882000026
            ],
            [
             -122.31436977275649,
             37.82468688165633
            ],
            [
             -122.31966501039263,
             37.823436095570706
            ],
            [
             -122.32051882873928,
             37.82315416803443
            ],
            [
             -122.32779727636989,
             37.82217714613479
            ],
            [
             -122.36056584880541,
             37.81433095167962
            ],
            [
             -122.36130568773189,
             37.81382690798553
            ],
            [
             -122.36440285289149,
             37.81079787076244
            ],
            [
             -122.36489872317789,
             37.81034388164665
            ],
            [
             -122.36505879285244,
             37.810199105830094
            ],
            [
             -122.3663259547885,
             37.808981888406464
            ],
            [
             -122.3673413402401,
             37.808082197058226
            ],
            [
             -122.38827646383842,
             37.788527873214676
            ],
            [
             -122.3910909229525,
             37.78591897577717
            ],
            [
             -122.39147185555927,
             37.78564393908398
            ],
            [
             -122.39537107287207,
             37.785949007896875
            ],
            [
             -122.39576025045301,
             37.78625797926232
            ],
            [
             -122.3957138185909,
             37.787372226036396
            ],
            [
             -122.39558516787649,
             37.787475009770425
            ],
            [
             -122.39517310024324,
             37.787798734223934
            ],
            [
             -122.39495887554679,
             37.787970878837136
            ],
            [
             -122.39424213977102,
             37.78853210899809
            ],
            [
             -122.3944017731551,
             37.7886610905701
            ],
            [
             -122.39484498309923,
             37.78900492469991
            ],
            [
             -122.3951499571567,
             37.789229891054326
            ],
            [
             -122.39536284660079,
             37.78940170623714
            ],
            [
             -122.39570691825735,
             37.78967237654137
            ],
            [
             -122.39604201573603,
             37.78993871965704
            ],
            [
             -122.39617187081087,
             37.79004611946138
            ],
            [
             -122.39644688830164,
             37.79026371702775
            ],
            [
             -122.3966910416635,
             37.790461958759295
            ],
            [
             -122.39716383291318,
             37.79083615733379
            ],
            [
             -122.39724764254886,
             37.790903995314174
            ],
            [
             -122.39754536379671,
             37.79114898001451
            ],
            [
             -122.39830116530517,
             37.79173225560059
            ],
            [
             -122.39852982431498,
             37.79202205276155
            ],
            [
             -122.39861303023174,
             37.792410816944866
            ],
            [
             -122.39978773721295,
             37.792259023088505
            ],
            [
             -122.4009630256362,
             37.79211800615279
            ],
            [
             -122.40163448183836,
             37.792029936638464
            ],
            [
             -122.40178005333631,
             37.792014929004814
            ],
            [
             -122.40188648293288,
             37.79199936922719
            ],
            [
             -122.40219895723766,
             37.791961109792794
            ],
            [
             -122.40259598211824,
             37.79190783326001
            ],
            [
             -122.40241333959627,
             37.79097679939431
            ],
            [
             -122.40224514093441,
             37.79017233570007
            ]
           ],
           "type": "LineString"
          },
          "properties": {
           "style": {
            "color": "#0000ff",
            "weight": "3px"
           }
          },
          "type": "Feature"
         }
        ],
        "type": "FeatureCollection"
       },
       "msg_throttle": 1
      }
     },
     "702251d997354821a974e15dc300f4fd": {
      "model_module": "jupyter-leaflet",
      "model_module_version": "*",
      "model_name": "LeafletMapModel",
      "state": {
       "_dom_classes": [],
       "_east": -122.33628273010254,
       "_model_module_version": "*",
       "_north": 37.804833615870386,
       "_south": 37.77770259037417,
       "_view_module_version": "*",
       "_west": -122.42297172546387,
       "center": [
        37.791269348397826,
        -122.3796272277832
       ],
       "layers": [
        "IPY_MODEL_dcbff684d45444258b21f374ee2efcf1",
        "IPY_MODEL_13299692f7354a2495b36604442dc9bf"
       ],
       "layout": "IPY_MODEL_3945d5acbc8e4d77b558290956d96fb9",
       "msg_throttle": 1,
       "options": [
        "keyboard_pan_offset",
        "tap",
        "attribution_control",
        "max_zoom",
        "min_zoom",
        "bounce_at_zoom_limits",
        "keyboard",
        "scroll_wheel_zoom",
        "dragging",
        "inertia_max_speed",
        "close_popup_on_click",
        "zoom_control",
        "box_zoom",
        "double_click_zoom",
        "tap_tolerance",
        "zoom_start",
        "keyboard_zoom_offset",
        "inertia_deceleration",
        "inertia",
        "center",
        "zoom",
        "world_copy_jump",
        "zoom_animation_threshold",
        "touch_zoom"
       ],
       "zoom": 14
      }
     },
     "71722b8bb4e34497bd7d56d3e40b60b5": {
      "model_module": "jupyter-leaflet",
      "model_module_version": "*",
      "model_name": "LeafletGeoJSONModel",
      "state": {
       "_model_module_version": "*",
       "_view_module_version": "*",
       "data": {
        "features": [
         {
          "geometry": {
           "coordinates": [
            [
             -122.258927,
             37.826179
            ],
            [
             -122.259758,
             37.824851
            ],
            [
             -122.260468,
             37.825031
            ],
            [
             -122.26056,
             37.825054
            ],
            [
             -122.261612,
             37.825302
            ],
            [
             -122.262452,
             37.825485
            ],
            [
             -122.26355,
             37.825736
            ],
            [
             -122.265191,
             37.826457
            ],
            [
             -122.265145,
             37.826622
            ],
            [
             -122.265053,
             37.826965
            ],
            [
             -122.265038,
             37.827041
            ],
            [
             -122.264985,
             37.82722
            ],
            [
             -122.264946,
             37.827369
            ],
            [
             -122.264908,
             37.827518
            ],
            [
             -122.264718,
             37.828216
            ],
            [
             -122.264672,
             37.828392
            ],
            [
             -122.264649,
             37.828464
            ],
            [
             -122.264481,
             37.829105
            ],
            [
             -122.264451,
             37.829204
            ],
            [
             -122.265671,
             37.829391
            ],
            [
             -122.266037,
             37.829448
            ],
            [
             -122.267914,
             37.829746
            ],
            [
             -122.268425,
             37.82983
            ],
            [
             -122.268235,
             37.830585
            ],
            [
             -122.268006,
             37.831485
            ],
            [
             -122.26783,
             37.832183
            ],
            [
             -122.267655,
             37.832878
            ],
            [
             -122.267479,
             37.833583
            ],
            [
             -122.267304,
             37.834285
            ],
            [
             -122.267235,
             37.834526
            ],
            [
             -122.266694,
             37.834316
            ],
            [
             -122.266717,
             37.834079
            ],
            [
             -122.266785,
             37.833694
            ],
            [
             -122.266861,
             37.833301
            ],
            [
             -122.266854,
             37.833156
            ],
            [
             -122.267075,
             37.83226
            ],
            [
             -122.267174,
             37.83152
            ],
            [
             -122.26722,
             37.831188
            ],
            [
             -122.267411,
             37.829868
            ],
            [
             -122.267685,
             37.828845
            ],
            [
             -122.271874,
             37.82545
            ],
            [
             -122.272416,
             37.825569
            ],
            [
             -122.274903,
             37.82608
            ],
            [
             -122.275399,
             37.826187
            ],
            [
             -122.277764,
             37.826637
            ],
            [
             -122.278115,
             37.826717
            ],
            [
             -122.281449,
             37.827484
            ],
            [
             -122.284462,
             37.827342
            ],
            [
             -122.284836,
             37.827255
            ],
            [
             -122.288613,
             37.82653
            ],
            [
             -122.290474,
             37.826992
            ],
            [
             -122.29641,
             37.827289
            ],
            [
             -122.302109,
             37.826045
            ],
            [
             -122.302643,
             37.825931
            ],
            [
             -122.303048,
             37.825843
            ],
            [
             -122.303399,
             37.825771
            ],
            [
             -122.313317,
             37.824855
            ],
            [
             -122.313836,
             37.824779
            ],
            [
             -122.31437,
             37.824687
            ],
            [
             -122.319665,
             37.823436
            ],
            [
             -122.320519,
             37.823154
            ],
            [
             -122.327797,
             37.822177
            ],
            [
             -122.360566,
             37.814331
            ],
            [
             -122.361306,
             37.813827
            ],
            [
             -122.364403,
             37.810798
            ],
            [
             -122.364899,
             37.810344
            ],
            [
             -122.365059,
             37.810199
            ],
            [
             -122.366326,
             37.808982
            ],
            [
             -122.367341,
             37.808082
            ],
            [
             -122.388276,
             37.788528
            ],
            [
             -122.391091,
             37.785919
            ],
            [
             -122.391472,
             37.785644
            ],
            [
             -122.395371,
             37.785949
            ],
            [
             -122.39576,
             37.786258
            ],
            [
             -122.395714,
             37.787372
            ],
            [
             -122.395585,
             37.787475
            ],
            [
             -122.395173,
             37.787799
            ],
            [
             -122.394959,
             37.787971
            ],
            [
             -122.394242,
             37.788532
            ],
            [
             -122.394402,
             37.788661
            ],
            [
             -122.394845,
             37.789005
            ],
            [
             -122.39515,
             37.78923
            ],
            [
             -122.395363,
             37.789402
            ],
            [
             -122.395707,
             37.789672
            ],
            [
             -122.396042,
             37.789939
            ],
            [
             -122.396172,
             37.790046
            ],
            [
             -122.396447,
             37.790264
            ],
            [
             -122.396691,
             37.790462
            ],
            [
             -122.397164,
             37.790836
            ],
            [
             -122.397248,
             37.790904
            ],
            [
             -122.397545,
             37.791149
            ],
            [
             -122.398301,
             37.791732
            ],
            [
             -122.39853,
             37.792022
            ],
            [
             -122.398613,
             37.792411
            ],
            [
             -122.399788,
             37.792259
            ],
            [
             -122.400963,
             37.792118
            ],
            [
             -122.401635,
             37.79203
            ],
            [
             -122.40178,
             37.792015
            ],
            [
             -122.401886,
             37.791999
            ],
            [
             -122.402199,
             37.791961
            ],
            [
             -122.402596,
             37.791908
            ],
            [
             -122.402413,
             37.790977
            ],
            [
             -122.402245,
             37.790172
            ]
           ],
           "type": "LineString"
          },
          "properties": {
           "style": {
            "color": "#ff0000",
            "weight": "3px"
           }
          },
          "type": "Feature"
         },
         {
          "geometry": {
           "coordinates": [
            [
             -122.258927,
             37.826179
            ],
            [
             -122.25975749550702,
             37.824851593307166
            ],
            [
             -122.26046956983906,
             37.825030674486285
            ],
            [
             -122.26055972242052,
             37.825054799679734
            ],
            [
             -122.26161134672381,
             37.825301711546096
            ],
            [
             -122.26245361176088,
             37.82548383603421
            ],
            [
             -122.26355073677642,
             37.825736233041816
            ],
            [
             -122.26519033164523,
             37.82645788402774
            ],
            [
             -122.26514451491863,
             37.826621465071085
            ],
            [
             -122.26505340136754,
             37.82696432821913
            ],
            [
             -122.26503626985367,
             37.82704049597246
            ],
            [
             -122.26498512837209,
             37.82722156706177
            ],
            [
             -122.26494750352163,
             37.82736980014158
            ],
            [
             -122.26490765213603,
             37.827518800519265
            ],
            [
             -122.2647188549199,
             37.828215761369876
            ],
            [
             -122.2646722662703,
             37.828392960598826
            ],
            [
             -122.26464927215196,
             37.82846437743603
            ],
            [
             -122.2644813491854,
             37.829105898333054
            ],
            [
             -122.26444944588417,
             37.82920430976748
            ],
            [
             -122.26567018065877,
             37.829391221799
            ],
            [
             -122.26603598198588,
             37.8294478750824
            ],
            [
             -122.26791340944457,
             37.82974566761559
            ],
            [
             -122.26842333537624,
             37.829829645174314
            ],
            [
             -122.26823396000955,
             37.83058445780019
            ],
            [
             -122.26800592188123,
             37.831485043060574
            ],
            [
             -122.26782854240813,
             37.83218291877507
            ],
            [
             -122.26765519403286,
             37.83287842088804
            ],
            [
             -122.26747897182948,
             37.83358352753642
            ],
            [
             -122.26730321682355,
             37.83428562246266
            ],
            [
             -122.26723410821563,
             37.8345261679236
            ],
            [
             -122.26669373137511,
             37.83431532944538
            ],
            [
             -122.26671730355713,
             37.834078908785514
            ],
            [
             -122.2667855831627,
             37.83369428372545
            ],
            [
             -122.26686099278025,
             37.833300560701225
            ],
            [
             -122.2668531719699,
             37.833155048184494
            ],
            [
             -122.26707544387563,
             37.83226042024258
            ],
            [
             -122.26717419677502,
             37.831521194916476
            ],
            [
             -122.26721986000433,
             37.83118773876957
            ],
            [
             -122.26741097579857,
             37.82986779563529
            ],
            [
             -122.26768516422953,
             37.82884430319194
            ],
            [
             -122.27187361296406,
             37.825450215602174
            ],
            [
             -122.27241671044533,
             37.82556783327931
            ],
            [
             -122.27490239013225,
             37.82607990124206
            ],
            [
             -122.27539883998958,
             37.82618670117648
            ],
            [
             -122.27776524055324,
             37.82663743423913
            ],
            [
             -122.27811499397112,
             37.82671651881301
            ],
            [
             -122.28144793746577,
             37.827483855494044
            ],
            [
             -122.28446208483432,
             37.827343601057606
            ],
            [
             -122.28483564702536,
             37.8272553071776
            ],
            [
             -122.28861390851836,
             37.82653064119628
            ],
            [
             -122.29047311004922,
             37.82699225477761
            ],
            [
             -122.2964092325731,
             37.8272896696011
            ],
            [
             -122.30210856553752,
             37.82604580714813
            ],
            [
             -122.30264308869859,
             37.82593078104162
            ],
            [
             -122.30304862330414,
             37.825843949149785
            ],
            [
             -122.3033984498631,
             37.825769854978766
            ],
            [
             -122.31331752532321,
             37.824854405811
            ],
            [
             -122.3138367408031,
             37.824778785402664
            ],
            [
             -122.31437173499818,
             37.824687229892646
            ],
            [
             -122.31966561672469,
             37.82343688273471
            ],
            [
             -122.32051907953237,
             37.823155041773276
            ],
            [
             -122.32779687130193,
             37.82217727838957
            ],
            [
             -122.36056745392591,
             37.81433165268696
            ],
            [
             -122.36130587751633,
             37.81382830538016
            ],
            [
             -122.36440244135228,
             37.81079682807584
            ],
            [
             -122.36489725796359,
             37.81034315869402
            ],
            [
             -122.36505786012903,
             37.810199188053346
            ],
            [
             -122.36632613793664,
             37.80898220833294
            ],
            [
             -122.36734037609261,
             37.8080821673627
            ],
            [
             -122.38827666442775,
             37.78852788531561
            ],
            [
             -122.39109192029508,
             37.785918321765145
            ],
            [
             -122.39147204083406,
             37.78564460200333
            ],
            [
             -122.39537268318092,
             37.78594891099031
            ],
            [
             -122.39576053498878,
             37.786257467955686
            ],
            [
             -122.39571430286206,
             37.787372317240205
            ],
            [
             -122.39558568300254,
             37.787474855170736
            ],
            [
             -122.3951730394276,
             37.78779916219866
            ],
            [
             -122.39495882006774,
             37.78797098297421
            ],
            [
             -122.39424128501744,
             37.788531347237374
            ],
            [
             -122.39440203856529,
             37.78866118494586
            ],
            [
             -122.39484450902013,
             37.789005737624954
            ],
            [
             -122.3951504863976,
             37.78922914451908
            ],
            [
             -122.39536314825271,
             37.78940175902921
            ],
            [
             -122.39570587898947,
             37.78967205731027
            ],
            [
             -122.39604245400366,
             37.78993903520659
            ],
            [
             -122.39617052288483,
             37.79004861957779
            ],
            [
             -122.39644665469145,
             37.7902653555888
            ],
            [
             -122.39669159817937,
             37.79046242920652
            ],
            [
             -122.39716381126642,
             37.79083509832097
            ],
            [
             -122.39724906141136,
             37.79090497376009
            ],
            [
             -122.39754269795142,
             37.79114906990417
            ],
            [
             -122.39829869868024,
             37.79173267110286
            ],
            [
             -122.3985278087307,
             37.79202085575196
            ],
            [
             -122.39861362962549,
             37.792411525036286
            ],
            [
             -122.39978661391171,
             37.79225846617365
            ],
            [
             -122.4009640684255,
             37.79211720572452
            ],
            [
             -122.4016354605831,
             37.79203020705653
            ],
            [
             -122.40178107922587,
             37.79201580343752
            ],
            [
             -122.40188565882843,
             37.79199924198402
            ],
            [
             -122.40219908420043,
             37.79196182013076
            ],
            [
             -122.40259562925368,
             37.79190807939962
            ],
            [
             -122.40241189598974,
             37.7909776432656
            ],
            [
             -122.40224469812459,
             37.790172259731065
            ]
           ],
           "type": "LineString"
          },
          "properties": {
           "style": {
            "color": "#0000ff",
            "weight": "3px"
           }
          },
          "type": "Feature"
         }
        ],
        "type": "FeatureCollection"
       },
       "msg_throttle": 1
      }
     },
     "7519cef6da734ff3ab5e31440f2fbd96": {
      "model_module": "jupyter-leaflet",
      "model_module_version": "*",
      "model_name": "LeafletMapModel",
      "state": {
       "_dom_classes": [],
       "_east": -122.14874267578125,
       "_model_module_version": "*",
       "_north": 37.86862005954327,
       "_south": 37.76012993823887,
       "_view_module_version": "*",
       "_west": -122.49549865722656,
       "center": [
        37.81439492742204,
        -122.32212066650389
       ],
       "layers": [
        "IPY_MODEL_47cb8b71e5c64517a4f9c707b86b168b",
        "IPY_MODEL_7c74390fe7cd4322bb24b04db48fe751"
       ],
       "layout": "IPY_MODEL_01e5a59d87ad4d659a223710ff3f32c2",
       "msg_throttle": 1,
       "options": [
        "keyboard_pan_offset",
        "tap",
        "attribution_control",
        "max_zoom",
        "min_zoom",
        "bounce_at_zoom_limits",
        "keyboard",
        "scroll_wheel_zoom",
        "dragging",
        "inertia_max_speed",
        "close_popup_on_click",
        "zoom_control",
        "box_zoom",
        "double_click_zoom",
        "tap_tolerance",
        "zoom_start",
        "keyboard_zoom_offset",
        "inertia_deceleration",
        "inertia",
        "center",
        "zoom",
        "world_copy_jump",
        "zoom_animation_threshold",
        "touch_zoom"
       ]
      }
     },
     "7a96efe868de44d5859912e157dbd761": {
      "model_module": "jupyter-leaflet",
      "model_module_version": "*",
      "model_name": "LeafletGeoJSONModel",
      "state": {
       "_model_module_version": "*",
       "_view_module_version": "*",
       "data": {
        "features": [
         {
          "geometry": {
           "coordinates": [
            [
             -122.258927,
             37.826179
            ],
            [
             -122.259758,
             37.824851
            ],
            [
             -122.260468,
             37.825031
            ],
            [
             -122.26056,
             37.825054
            ],
            [
             -122.261612,
             37.825302
            ],
            [
             -122.262452,
             37.825485
            ],
            [
             -122.26355,
             37.825736
            ],
            [
             -122.265191,
             37.826457
            ],
            [
             -122.265145,
             37.826622
            ],
            [
             -122.265053,
             37.826965
            ],
            [
             -122.265038,
             37.827041
            ],
            [
             -122.264985,
             37.82722
            ],
            [
             -122.264946,
             37.827369
            ],
            [
             -122.264908,
             37.827518
            ],
            [
             -122.264718,
             37.828216
            ],
            [
             -122.264672,
             37.828392
            ],
            [
             -122.264649,
             37.828464
            ],
            [
             -122.264481,
             37.829105
            ],
            [
             -122.264451,
             37.829204
            ],
            [
             -122.265671,
             37.829391
            ],
            [
             -122.266037,
             37.829448
            ],
            [
             -122.267914,
             37.829746
            ],
            [
             -122.268425,
             37.82983
            ],
            [
             -122.268235,
             37.830585
            ],
            [
             -122.268006,
             37.831485
            ],
            [
             -122.26783,
             37.832183
            ],
            [
             -122.267655,
             37.832878
            ],
            [
             -122.267479,
             37.833583
            ],
            [
             -122.267304,
             37.834285
            ],
            [
             -122.267235,
             37.834526
            ],
            [
             -122.266694,
             37.834316
            ],
            [
             -122.266717,
             37.834079
            ],
            [
             -122.266785,
             37.833694
            ],
            [
             -122.266861,
             37.833301
            ],
            [
             -122.266854,
             37.833156
            ],
            [
             -122.267075,
             37.83226
            ],
            [
             -122.267174,
             37.83152
            ],
            [
             -122.26722,
             37.831188
            ],
            [
             -122.267411,
             37.829868
            ],
            [
             -122.267685,
             37.828845
            ],
            [
             -122.271874,
             37.82545
            ],
            [
             -122.272416,
             37.825569
            ],
            [
             -122.274903,
             37.82608
            ],
            [
             -122.275399,
             37.826187
            ],
            [
             -122.277764,
             37.826637
            ],
            [
             -122.278115,
             37.826717
            ],
            [
             -122.281449,
             37.827484
            ],
            [
             -122.284462,
             37.827342
            ],
            [
             -122.284836,
             37.827255
            ],
            [
             -122.288613,
             37.82653
            ],
            [
             -122.290474,
             37.826992
            ],
            [
             -122.29641,
             37.827289
            ],
            [
             -122.302109,
             37.826045
            ],
            [
             -122.302643,
             37.825931
            ],
            [
             -122.303048,
             37.825843
            ],
            [
             -122.303399,
             37.825771
            ],
            [
             -122.313317,
             37.824855
            ],
            [
             -122.313836,
             37.824779
            ],
            [
             -122.31437,
             37.824687
            ],
            [
             -122.319665,
             37.823436
            ],
            [
             -122.320519,
             37.823154
            ],
            [
             -122.327797,
             37.822177
            ],
            [
             -122.360566,
             37.814331
            ],
            [
             -122.361306,
             37.813827
            ],
            [
             -122.364403,
             37.810798
            ],
            [
             -122.364899,
             37.810344
            ],
            [
             -122.365059,
             37.810199
            ],
            [
             -122.366326,
             37.808982
            ],
            [
             -122.367341,
             37.808082
            ],
            [
             -122.388276,
             37.788528
            ],
            [
             -122.391091,
             37.785919
            ],
            [
             -122.391472,
             37.785644
            ],
            [
             -122.395371,
             37.785949
            ],
            [
             -122.39576,
             37.786258
            ],
            [
             -122.395714,
             37.787372
            ],
            [
             -122.395585,
             37.787475
            ],
            [
             -122.395173,
             37.787799
            ],
            [
             -122.394959,
             37.787971
            ],
            [
             -122.394242,
             37.788532
            ],
            [
             -122.394402,
             37.788661
            ],
            [
             -122.394845,
             37.789005
            ],
            [
             -122.39515,
             37.78923
            ],
            [
             -122.395363,
             37.789402
            ],
            [
             -122.395707,
             37.789672
            ],
            [
             -122.396042,
             37.789939
            ],
            [
             -122.396172,
             37.790046
            ],
            [
             -122.396447,
             37.790264
            ],
            [
             -122.396691,
             37.790462
            ],
            [
             -122.397164,
             37.790836
            ],
            [
             -122.397248,
             37.790904
            ],
            [
             -122.397545,
             37.791149
            ],
            [
             -122.398301,
             37.791732
            ],
            [
             -122.39853,
             37.792022
            ],
            [
             -122.398613,
             37.792411
            ],
            [
             -122.399788,
             37.792259
            ],
            [
             -122.400963,
             37.792118
            ],
            [
             -122.401635,
             37.79203
            ],
            [
             -122.40178,
             37.792015
            ],
            [
             -122.401886,
             37.791999
            ],
            [
             -122.402199,
             37.791961
            ],
            [
             -122.402596,
             37.791908
            ],
            [
             -122.402413,
             37.790977
            ],
            [
             -122.402245,
             37.790172
            ]
           ],
           "type": "LineString"
          },
          "properties": {
           "style": {
            "color": "#ff0000",
            "weight": "3px"
           }
          },
          "type": "Feature"
         },
         {
          "geometry": {
           "coordinates": [
            [
             -122.258927,
             37.826179
            ],
            [
             -122.25950710559879,
             37.82481484862193
            ],
            [
             -122.26051263475148,
             37.82504874479981
            ],
            [
             -122.25996564797968,
             37.825082202785275
            ],
            [
             -122.26152182320926,
             37.82518811163789
            ],
            [
             -122.26207238967808,
             37.82536250840488
            ],
            [
             -122.26313275501991,
             37.82591962774903
            ],
            [
             -122.26557806956133,
             37.826202131989035
            ],
            [
             -122.26518459732493,
             37.826735373407324
            ],
            [
             -122.26523081682848,
             37.82742491408316
            ],
            [
             -122.26532586298867,
             37.826995868814265
            ],
            [
             -122.26469758486662,
             37.82746332371371
            ],
            [
             -122.26484612438648,
             37.827312711624074
            ],
            [
             -122.26463776063929,
             37.82780867076938
            ],
            [
             -122.26494266830471,
             37.82823872976973
            ],
            [
             -122.2649617431092,
             37.82834708268335
            ],
            [
             -122.26447138722762,
             37.82856274643217
            ],
            [
             -122.26436219668723,
             37.829092475887336
            ],
            [
             -122.2648221359526,
             37.82906399275962
            ],
            [
             -122.26559027151629,
             37.829448861649894
            ],
            [
             -122.26595009080374,
             37.829454128961785
            ],
            [
             -122.26780809253107,
             37.82978445351823
            ],
            [
             -122.26881629197806,
             37.82970688964456
            ],
            [
             -122.26815195110358,
             37.83046509603086
            ],
            [
             -122.26790593682227,
             37.83136399390453
            ],
            [
             -122.26778518833252,
             37.83213127214899
            ],
            [
             -122.26790438104337,
             37.83325626054981
            ],
            [
             -122.26742137057244,
             37.83352482436877
            ],
            [
             -122.26742843984039,
             37.8342437232087
            ],
            [
             -122.26733598272357,
             37.83439693992243
            ],
            [
             -122.26691804811828,
             37.83424185758389
            ],
            [
             -122.26696904087636,
             37.83415134838416
            ],
            [
             -122.26702544820071,
             37.83372564558466
            ],
            [
             -122.26723331191194,
             37.83307189203426
            ],
            [
             -122.26706983774865,
             37.83342641433497
            ],
            [
             -122.26667518478614,
             37.83225016679321
            ],
            [
             -122.26717794020263,
             37.83159038891623
            ],
            [
             -122.26720816083733,
             37.83102997940152
            ],
            [
             -122.26758985637275,
             37.829928706672575
            ],
            [
             -122.26772612702347,
             37.829161923536034
            ],
            [
             -122.27195769047329,
             37.82521460119906
            ],
            [
             -122.27248055474776,
             37.825597124646784
            ],
            [
             -122.27530177836024,
             37.82606114527959
            ],
            [
             -122.27596807097952,
             37.82611871035668
            ],
            [
             -122.27785933478484,
             37.826609270603264
            ],
            [
             -122.27803871701657,
             37.82661949266683
            ],
            [
             -122.28168705330162,
             37.82753307784951
            ],
            [
             -122.28453049548011,
             37.82770211105223
            ],
            [
             -122.28452073429851,
             37.827129756858454
            ],
            [
             -122.28876571071703,
             37.82665530503693
            ],
            [
             -122.29032036999244,
             37.826840657221645
            ],
            [
             -122.29655715244748,
             37.82751267195155
            ],
            [
             -122.30208092181005,
             37.82591308513416
            ],
            [
             -122.30279508508909,
             37.825832454226244
            ],
            [
             -122.30274089060678,
             37.8258525979051
            ],
            [
             -122.3033879986036,
             37.825451315557316
            ],
            [
             -122.31326089475834,
             37.82495619670762
            ],
            [
             -122.31406536270356,
             37.82482192665602
            ],
            [
             -122.31420146072917,
             37.82500957156174
            ],
            [
             -122.31952664112833,
             37.82344518795525
            ],
            [
             -122.32043403430102,
             37.82277726426786
            ],
            [
             -122.32778662440886,
             37.82201654081078
            ],
            [
             -122.36038156693186,
             37.81428388421653
            ],
            [
             -122.3615521314467,
             37.81383514068322
            ],
            [
             -122.36426548698283,
             37.810774539350085
            ],
            [
             -122.36502935841553,
             37.810442528577916
            ],
            [
             -122.3647132228248,
             37.8103079717054
            ],
            [
             -122.36614313418845,
             37.80935641043062
            ],
            [
             -122.36771374256146,
             37.80775675248012
            ],
            [
             -122.38807022354887,
             37.78843711342817
            ],
            [
             -122.39131716589402,
             37.785814073811906
            ],
            [
             -122.39162280003465,
             37.785475098487304
            ],
            [
             -122.39488881055667,
             37.78618687990906
            ],
            [
             -122.39589553335112,
             37.786543464686105
            ],
            [
             -122.39537998820543,
             37.78704067444886
            ],
            [
             -122.39537139165077,
             37.78747258968743
            ],
            [
             -122.39535490640237,
             37.78804932232185
            ],
            [
             -122.3947892876732,
             37.78788756235817
            ],
            [
             -122.39411790913738,
             37.788517438973635
            ],
            [
             -122.39453426491315,
             37.788853007524
            ],
            [
             -122.39477426806266,
             37.789162624569265
            ],
            [
             -122.39563082730325,
             37.789110065944854
            ],
            [
             -122.39533788152967,
             37.7894232422316
            ],
            [
             -122.39582725610417,
             37.78971153907039
            ],
            [
             -122.3958286395337,
             37.78994302667146
            ],
            [
             -122.39572293842042,
             37.7904401559128
            ],
            [
             -122.39627497187524,
             37.79039369610101
            ],
            [
             -122.39609363118382,
             37.79064533952563
            ],
            [
             -122.39710999803289,
             37.791167442178775
            ],
            [
             -122.39767325225148,
             37.791006815456754
            ],
            [
             -122.39799845193183,
             37.791007117517026
            ],
            [
             -122.39842523979466,
             37.791666053117744
            ],
            [
             -122.39894756403453,
             37.7919867275452
            ],
            [
             -122.39872375579898,
             37.79241764517858
            ],
            [
             -122.40006854234814,
             37.792038876163296
            ],
            [
             -122.40117398197938,
             37.79221164285832
            ],
            [
             -122.40174947946976,
             37.791860174231566
            ],
            [
             -122.4016341957181,
             37.79213319480119
            ],
            [
             -122.40182495112352,
             37.79203393770403
            ],
            [
             -122.40197450495589,
             37.7920159496986
            ],
            [
             -122.4025769807297,
             37.791856295844056
            ],
            [
             -122.402185353524,
             37.79140352263431
            ],
            [
             -122.4021777231261,
             37.79014968797569
            ]
           ],
           "type": "LineString"
          },
          "properties": {
           "style": {
            "color": "#0000ff",
            "weight": "3px"
           }
          },
          "type": "Feature"
         }
        ],
        "type": "FeatureCollection"
       },
       "msg_throttle": 1
      }
     },
     "7c74390fe7cd4322bb24b04db48fe751": {
      "model_module": "jupyter-leaflet",
      "model_module_version": "*",
      "model_name": "LeafletGeoJSONModel",
      "state": {
       "_model_module_version": "*",
       "_view_module_version": "*",
       "data": {
        "features": [
         {
          "geometry": {
           "coordinates": [
            [
             -122.258927,
             37.826179
            ],
            [
             -122.259758,
             37.824851
            ],
            [
             -122.260468,
             37.825031
            ],
            [
             -122.26056,
             37.825054
            ],
            [
             -122.261612,
             37.825302
            ],
            [
             -122.262452,
             37.825485
            ],
            [
             -122.26355,
             37.825736
            ],
            [
             -122.265191,
             37.826457
            ],
            [
             -122.265145,
             37.826622
            ],
            [
             -122.265053,
             37.826965
            ],
            [
             -122.265038,
             37.827041
            ],
            [
             -122.264985,
             37.82722
            ],
            [
             -122.264946,
             37.827369
            ],
            [
             -122.264908,
             37.827518
            ],
            [
             -122.264718,
             37.828216
            ],
            [
             -122.264672,
             37.828392
            ],
            [
             -122.264649,
             37.828464
            ],
            [
             -122.264481,
             37.829105
            ],
            [
             -122.264451,
             37.829204
            ],
            [
             -122.265671,
             37.829391
            ],
            [
             -122.266037,
             37.829448
            ],
            [
             -122.267914,
             37.829746
            ],
            [
             -122.268425,
             37.82983
            ],
            [
             -122.268235,
             37.830585
            ],
            [
             -122.268006,
             37.831485
            ],
            [
             -122.26783,
             37.832183
            ],
            [
             -122.267655,
             37.832878
            ],
            [
             -122.267479,
             37.833583
            ],
            [
             -122.267304,
             37.834285
            ],
            [
             -122.267235,
             37.834526
            ],
            [
             -122.266694,
             37.834316
            ],
            [
             -122.266717,
             37.834079
            ],
            [
             -122.266785,
             37.833694
            ],
            [
             -122.266861,
             37.833301
            ],
            [
             -122.266854,
             37.833156
            ],
            [
             -122.267075,
             37.83226
            ],
            [
             -122.267174,
             37.83152
            ],
            [
             -122.26722,
             37.831188
            ],
            [
             -122.267411,
             37.829868
            ],
            [
             -122.267685,
             37.828845
            ],
            [
             -122.271874,
             37.82545
            ],
            [
             -122.272416,
             37.825569
            ],
            [
             -122.274903,
             37.82608
            ],
            [
             -122.275399,
             37.826187
            ],
            [
             -122.277764,
             37.826637
            ],
            [
             -122.278115,
             37.826717
            ],
            [
             -122.281449,
             37.827484
            ],
            [
             -122.284462,
             37.827342
            ],
            [
             -122.284836,
             37.827255
            ],
            [
             -122.288613,
             37.82653
            ],
            [
             -122.290474,
             37.826992
            ],
            [
             -122.29641,
             37.827289
            ],
            [
             -122.302109,
             37.826045
            ],
            [
             -122.302643,
             37.825931
            ],
            [
             -122.303048,
             37.825843
            ],
            [
             -122.303399,
             37.825771
            ],
            [
             -122.313317,
             37.824855
            ],
            [
             -122.313836,
             37.824779
            ],
            [
             -122.31437,
             37.824687
            ],
            [
             -122.319665,
             37.823436
            ],
            [
             -122.320519,
             37.823154
            ],
            [
             -122.327797,
             37.822177
            ],
            [
             -122.360566,
             37.814331
            ],
            [
             -122.361306,
             37.813827
            ],
            [
             -122.364403,
             37.810798
            ],
            [
             -122.364899,
             37.810344
            ],
            [
             -122.365059,
             37.810199
            ],
            [
             -122.366326,
             37.808982
            ],
            [
             -122.367341,
             37.808082
            ],
            [
             -122.388276,
             37.788528
            ],
            [
             -122.391091,
             37.785919
            ],
            [
             -122.391472,
             37.785644
            ],
            [
             -122.395371,
             37.785949
            ],
            [
             -122.39576,
             37.786258
            ],
            [
             -122.395714,
             37.787372
            ],
            [
             -122.395585,
             37.787475
            ],
            [
             -122.395173,
             37.787799
            ],
            [
             -122.394959,
             37.787971
            ],
            [
             -122.394242,
             37.788532
            ],
            [
             -122.394402,
             37.788661
            ],
            [
             -122.394845,
             37.789005
            ],
            [
             -122.39515,
             37.78923
            ],
            [
             -122.395363,
             37.789402
            ],
            [
             -122.395707,
             37.789672
            ],
            [
             -122.396042,
             37.789939
            ],
            [
             -122.396172,
             37.790046
            ],
            [
             -122.396447,
             37.790264
            ],
            [
             -122.396691,
             37.790462
            ],
            [
             -122.397164,
             37.790836
            ],
            [
             -122.397248,
             37.790904
            ],
            [
             -122.397545,
             37.791149
            ],
            [
             -122.398301,
             37.791732
            ],
            [
             -122.39853,
             37.792022
            ],
            [
             -122.398613,
             37.792411
            ],
            [
             -122.399788,
             37.792259
            ],
            [
             -122.400963,
             37.792118
            ],
            [
             -122.401635,
             37.79203
            ],
            [
             -122.40178,
             37.792015
            ],
            [
             -122.401886,
             37.791999
            ],
            [
             -122.402199,
             37.791961
            ],
            [
             -122.402596,
             37.791908
            ],
            [
             -122.402413,
             37.790977
            ],
            [
             -122.402245,
             37.790172
            ]
           ],
           "type": "LineString"
          },
          "properties": {
           "style": {
            "color": "#ff0000",
            "weight": "3px"
           }
          },
          "type": "Feature"
         },
         {
          "geometry": {
           "coordinates": [
            [
             -122.258927,
             37.826179
            ],
            [
             -122.25977903992262,
             37.82475975405929
            ],
            [
             -122.26055905012966,
             37.82470924508478
            ],
            [
             -122.25959860616351,
             37.82527241810662
            ],
            [
             -122.261493463059,
             37.8252015047199
            ],
            [
             -122.26295120770894,
             37.82549425766871
            ],
            [
             -122.26349763264662,
             37.82576961640656
            ],
            [
             -122.26512503619892,
             37.826200658337854
            ],
            [
             -122.26570205583087,
             37.8264958304206
            ],
            [
             -122.26475386250868,
             37.82666108650252
            ],
            [
             -122.26507042792903,
             37.82713338020469
            ],
            [
             -122.26533555555223,
             37.8279132601956
            ],
            [
             -122.26506483661875,
             37.827217294172115
            ],
            [
             -122.26476863291275,
             37.82718848054857
            ],
            [
             -122.26517015581287,
             37.82918091805471
            ],
            [
             -122.26462860472661,
             37.828413530146136
            ],
            [
             -122.26443471887029,
             37.82791770221871
            ],
            [
             -122.26445788416427,
             37.82883958882717
            ],
            [
             -122.26477082732981,
             37.82949263550995
            ],
            [
             -122.26570867990168,
             37.829548134103234
            ],
            [
             -122.26618833119632,
             37.82935661999824
            ],
            [
             -122.26792752530334,
             37.82953191230578
            ],
            [
             -122.26913476035608,
             37.829923419528264
            ],
            [
             -122.26809703879466,
             37.83051732567316
            ],
            [
             -122.26843026253164,
             37.831095466296595
            ],
            [
             -122.26859692898995,
             37.83235769680204
            ],
            [
             -122.26778704249463,
             37.832925376146385
            ],
            [
             -122.26843631692817,
             37.83323222204819
            ],
            [
             -122.26726687643226,
             37.834252633261976
            ],
            [
             -122.2671684227208,
             37.83463570428399
            ],
            [
             -122.26641287174152,
             37.83417242747844
            ],
            [
             -122.26666620532494,
             37.83379377183327
            ],
            [
             -122.26695274992572,
             37.83334748996688
            ],
            [
             -122.26665411088159,
             37.832909788137584
            ],
            [
             -122.26727696588542,
             37.833256939448084
            ],
            [
             -122.26664000662662,
             37.83223412290506
            ],
            [
             -122.26673393639716,
             37.831410284156846
            ],
            [
             -122.26755241646792,
             37.83118289099008
            ],
            [
             -122.26727598513394,
             37.82937696967412
            ],
            [
             -122.26762999340464,
             37.82888798705261
            ],
            [
             -122.27192457472913,
             37.825710598686946
            ],
            [
             -122.27254478706982,
             37.826016401818826
            ],
            [
             -122.27548624241284,
             37.82607504221958
            ],
            [
             -122.27578147547324,
             37.82640218127865
            ],
            [
             -122.27773919829797,
             37.82681162631546
            ],
            [
             -122.27778151864771,
             37.82656035290455
            ],
            [
             -122.28194176788202,
             37.82751095931533
            ],
            [
             -122.28456425895047,
             37.827706419897794
            ],
            [
             -122.28487047832122,
             37.82779470885076
            ],
            [
             -122.28872341943301,
             37.82708919288136
            ],
            [
             -122.29121825105454,
             37.82639904783394
            ],
            [
             -122.29713518550982,
             37.8268976125223
            ],
            [
             -122.3017013770362,
             37.82628753579436
            ],
            [
             -122.30234290158361,
             37.8260941152184
            ],
            [
             -122.30330534699789,
             37.82656843140574
            ],
            [
             -122.303559915449,
             37.82573396977545
            ],
            [
             -122.3134120726739,
             37.82490408811906
            ],
            [
             -122.31385077041816,
             37.824763233037
            ],
            [
             -122.31454260508282,
             37.824848228808754
            ],
            [
             -122.32040750385806,
             37.823190545698736
            ],
            [
             -122.32033696626743,
             37.82307579460174
            ],
            [
             -122.32773935999226,
             37.822164070607016
            ],
            [
             -122.3597143959348,
             37.81417876863314
            ],
            [
             -122.36083208040638,
             37.81369632428009
            ],
            [
             -122.36501042534317,
             37.81089764911045
            ],
            [
             -122.36452347481531,
             37.81068194263221
            ],
            [
             -122.36503109291274,
             37.8101524174349
            ],
            [
             -122.36654152299562,
             37.80911878499309
            ],
            [
             -122.36737262545573,
             37.80761675591583
            ],
            [
             -122.38818832904047,
             37.788432512342126
            ],
            [
             -122.39127972681928,
             37.786221645031766
            ],
            [
             -122.39186387643373,
             37.78577266376793
            ],
            [
             -122.39622053712854,
             37.78604849140034
            ],
            [
             -122.3959722118355,
             37.78664329344378
            ],
            [
             -122.3954493721834,
             37.78754257826372
            ],
            [
             -122.3957982018873,
             37.78747023189071
            ],
            [
             -122.39437234723782,
             37.787436472559364
            ],
            [
             -122.39469797670773,
             37.78813775082627
            ],
            [
             -122.39424034356769,
             37.78834856185498
            ],
            [
             -122.39465976396401,
             37.78836961454188
            ],
            [
             -122.39504991251835,
             37.78875370207778
            ],
            [
             -122.39502415668103,
             37.78944305249782
            ],
            [
             -122.39536387165221,
             37.789239592264764
            ],
            [
             -122.3961041142105,
             37.7901742226015
            ],
            [
             -122.39657696186394,
             37.79024492902916
            ],
            [
             -122.3958566611994,
             37.789871876715594
            ],
            [
             -122.39649165391285,
             37.79044232051055
            ],
            [
             -122.39646443638857,
             37.790626885831706
            ],
            [
             -122.39729532818056,
             37.79092777641106
            ],
            [
             -122.39695085089082,
             37.79120192232045
            ],
            [
             -122.39739287356892,
             37.79129052905216
            ],
            [
             -122.3981424469531,
             37.791524944610444
            ],
            [
             -122.39875665773282,
             37.79210589462249
            ],
            [
             -122.39898643519237,
             37.792044099436865
            ],
            [
             -122.40055012291619,
             37.792197284356654
            ],
            [
             -122.40142540774768,
             37.79227014165778
            ],
            [
             -122.40182794143765,
             37.79254133655992
            ],
            [
             -122.40213810449481,
             37.79200116220956
            ],
            [
             -122.4020047607708,
             37.79182289786262
            ],
            [
             -122.40271469579892,
             37.79171123705234
            ],
            [
             -122.40257592341098,
             37.792005440216485
            ],
            [
             -122.40231570798953,
             37.790868315730144
            ],
            [
             -122.40289448500207,
             37.79024701484014
            ]
           ],
           "type": "LineString"
          },
          "properties": {
           "style": {
            "color": "#0000ff",
            "weight": "3px"
           }
          },
          "type": "Feature"
         }
        ],
        "type": "FeatureCollection"
       },
       "msg_throttle": 1
      }
     },
     "96ee42f3005e4e1eb661524ac9f8d9e8": {
      "model_module": "jupyter-leaflet",
      "model_module_version": "*",
      "model_name": "LeafletMapModel",
      "state": {
       "_dom_classes": [],
       "_east": -122.14874267578125,
       "_model_module_version": "*",
       "_north": 37.86862005954327,
       "_south": 37.76012993823887,
       "_view_module_version": "*",
       "_west": -122.49549865722656,
       "center": [
        37.81439492742204,
        -122.32212066650389
       ],
       "layers": [
        "IPY_MODEL_b840bb70c20e40438d170aa59ee2a393",
        "IPY_MODEL_d41b4a09b2c247658224818db6800360"
       ],
       "layout": "IPY_MODEL_eb939186f78d45548f590a723da6dc4c",
       "msg_throttle": 1,
       "options": [
        "keyboard_pan_offset",
        "tap",
        "attribution_control",
        "max_zoom",
        "min_zoom",
        "bounce_at_zoom_limits",
        "keyboard",
        "scroll_wheel_zoom",
        "dragging",
        "inertia_max_speed",
        "close_popup_on_click",
        "zoom_control",
        "box_zoom",
        "double_click_zoom",
        "tap_tolerance",
        "zoom_start",
        "keyboard_zoom_offset",
        "inertia_deceleration",
        "inertia",
        "center",
        "zoom",
        "world_copy_jump",
        "zoom_animation_threshold",
        "touch_zoom"
       ]
      }
     },
     "9aa689ae153d4ce791935b31849601aa": {
      "model_module": "jupyter-leaflet",
      "model_module_version": "*",
      "model_name": "LeafletMapModel",
      "state": {
       "_dom_classes": [],
       "_east": -122.14874267578125,
       "_model_module_version": "*",
       "_north": 37.86862005954327,
       "_south": 37.76012993823887,
       "_view_module_version": "*",
       "_west": -122.49549865722656,
       "center": [
        37.81439492742204,
        -122.32212066650389
       ],
       "layers": [
        "IPY_MODEL_6e0cdffe4bfb4f4ea40e73dc5642a2f8",
        "IPY_MODEL_7a96efe868de44d5859912e157dbd761"
       ],
       "layout": "IPY_MODEL_b7862ded663d4d69b717d54796c85885",
       "msg_throttle": 1,
       "options": [
        "keyboard_pan_offset",
        "tap",
        "attribution_control",
        "max_zoom",
        "min_zoom",
        "bounce_at_zoom_limits",
        "keyboard",
        "scroll_wheel_zoom",
        "dragging",
        "inertia_max_speed",
        "close_popup_on_click",
        "zoom_control",
        "box_zoom",
        "double_click_zoom",
        "tap_tolerance",
        "zoom_start",
        "keyboard_zoom_offset",
        "inertia_deceleration",
        "inertia",
        "center",
        "zoom",
        "world_copy_jump",
        "zoom_animation_threshold",
        "touch_zoom"
       ]
      }
     },
     "a311f9e09a474b298b3450657e6936dd": {
      "model_module": "jupyter-js-widgets",
      "model_module_version": "~2.1.4",
      "model_name": "LayoutModel",
      "state": {
       "_model_module_version": "~2.1.4",
       "_view_module_version": "~2.1.4",
       "align_self": "stretch",
       "height": "400px"
      }
     },
     "a9ef42fda6a344c3b3fa51eed14cb417": {
      "model_module": "jupyter-leaflet",
      "model_module_version": "*",
      "model_name": "LeafletTileLayerModel",
      "state": {
       "_model_module_version": "*",
       "_view_module_version": "*",
       "msg_throttle": 1,
       "options": [
        "opacity",
        "attribution",
        "max_zoom",
        "detect_retina",
        "min_zoom",
        "tile_size"
       ],
       "url": "http://stamen-tiles-{s}.a.ssl.fastly.net/toner-lite/{z}/{x}/{y}.png"
      }
     },
     "ae5b128b26fa4ac98710d4958c019615": {
      "model_module": "jupyter-leaflet",
      "model_module_version": "*",
      "model_name": "LeafletTileLayerModel",
      "state": {
       "_model_module_version": "*",
       "_view_module_version": "*",
       "msg_throttle": 1,
       "options": [
        "opacity",
        "attribution",
        "max_zoom",
        "detect_retina",
        "min_zoom",
        "tile_size"
       ],
       "url": "http://stamen-tiles-{s}.a.ssl.fastly.net/toner-lite/{z}/{x}/{y}.png"
      }
     },
     "b7862ded663d4d69b717d54796c85885": {
      "model_module": "jupyter-js-widgets",
      "model_module_version": "~2.1.4",
      "model_name": "LayoutModel",
      "state": {
       "_model_module_version": "~2.1.4",
       "_view_module_version": "~2.1.4",
       "align_self": "stretch",
       "height": "400px"
      }
     },
     "b840bb70c20e40438d170aa59ee2a393": {
      "model_module": "jupyter-leaflet",
      "model_module_version": "*",
      "model_name": "LeafletTileLayerModel",
      "state": {
       "_model_module_version": "*",
       "_view_module_version": "*",
       "msg_throttle": 1,
       "options": [
        "opacity",
        "attribution",
        "max_zoom",
        "detect_retina",
        "min_zoom",
        "tile_size"
       ],
       "url": "http://stamen-tiles-{s}.a.ssl.fastly.net/toner-lite/{z}/{x}/{y}.png"
      }
     },
     "c08940c6ba334ca8af0342570666902c": {
      "model_module": "jupyter-leaflet",
      "model_module_version": "*",
      "model_name": "LeafletMapModel",
      "state": {
       "_dom_classes": [],
       "_east": -122.27128744125368,
       "_model_module_version": "*",
       "_north": 37.829378605421965,
       "_south": 37.82259903742557,
       "_view_module_version": "*",
       "_west": -122.29295969009398,
       "center": [
        37.82598889927767,
        -122.28212356567384
       ],
       "layers": [
        "IPY_MODEL_a9ef42fda6a344c3b3fa51eed14cb417",
        "IPY_MODEL_6e83519a2e4f4d55b9d6be7d8d0e2326"
       ],
       "layout": "IPY_MODEL_a311f9e09a474b298b3450657e6936dd",
       "msg_throttle": 1,
       "options": [
        "keyboard_pan_offset",
        "tap",
        "attribution_control",
        "max_zoom",
        "min_zoom",
        "bounce_at_zoom_limits",
        "keyboard",
        "scroll_wheel_zoom",
        "dragging",
        "inertia_max_speed",
        "close_popup_on_click",
        "zoom_control",
        "box_zoom",
        "double_click_zoom",
        "tap_tolerance",
        "zoom_start",
        "keyboard_zoom_offset",
        "inertia_deceleration",
        "inertia",
        "center",
        "zoom",
        "world_copy_jump",
        "zoom_animation_threshold",
        "touch_zoom"
       ],
       "zoom": 16
      }
     },
     "d0d9aff14ea74ec3b3cbd5ead5b095ce": {
      "model_module": "jupyter-leaflet",
      "model_module_version": "*",
      "model_name": "LeafletTileLayerModel",
      "state": {
       "_model_module_version": "*",
       "_view_module_version": "*",
       "msg_throttle": 1,
       "options": [
        "opacity",
        "attribution",
        "max_zoom",
        "detect_retina",
        "min_zoom",
        "tile_size"
       ],
       "url": "http://stamen-tiles-{s}.a.ssl.fastly.net/toner-lite/{z}/{x}/{y}.png"
      }
     },
     "d41b4a09b2c247658224818db6800360": {
      "model_module": "jupyter-leaflet",
      "model_module_version": "*",
      "model_name": "LeafletGeoJSONModel",
      "state": {
       "_model_module_version": "*",
       "_view_module_version": "*",
       "data": {
        "features": [
         {
          "geometry": {
           "coordinates": [
            [
             -122.258927,
             37.826179
            ],
            [
             -122.259758,
             37.824851
            ],
            [
             -122.260468,
             37.825031
            ],
            [
             -122.26056,
             37.825054
            ],
            [
             -122.261612,
             37.825302
            ],
            [
             -122.262452,
             37.825485
            ],
            [
             -122.26355,
             37.825736
            ],
            [
             -122.265191,
             37.826457
            ],
            [
             -122.265145,
             37.826622
            ],
            [
             -122.265053,
             37.826965
            ],
            [
             -122.265038,
             37.827041
            ],
            [
             -122.264985,
             37.82722
            ],
            [
             -122.264946,
             37.827369
            ],
            [
             -122.264908,
             37.827518
            ],
            [
             -122.264718,
             37.828216
            ],
            [
             -122.264672,
             37.828392
            ],
            [
             -122.264649,
             37.828464
            ],
            [
             -122.264481,
             37.829105
            ],
            [
             -122.264451,
             37.829204
            ],
            [
             -122.265671,
             37.829391
            ],
            [
             -122.266037,
             37.829448
            ],
            [
             -122.267914,
             37.829746
            ],
            [
             -122.268425,
             37.82983
            ],
            [
             -122.268235,
             37.830585
            ],
            [
             -122.268006,
             37.831485
            ],
            [
             -122.26783,
             37.832183
            ],
            [
             -122.267655,
             37.832878
            ],
            [
             -122.267479,
             37.833583
            ],
            [
             -122.267304,
             37.834285
            ],
            [
             -122.267235,
             37.834526
            ],
            [
             -122.266694,
             37.834316
            ],
            [
             -122.266717,
             37.834079
            ],
            [
             -122.266785,
             37.833694
            ],
            [
             -122.266861,
             37.833301
            ],
            [
             -122.266854,
             37.833156
            ],
            [
             -122.267075,
             37.83226
            ],
            [
             -122.267174,
             37.83152
            ],
            [
             -122.26722,
             37.831188
            ],
            [
             -122.267411,
             37.829868
            ],
            [
             -122.267685,
             37.828845
            ],
            [
             -122.271874,
             37.82545
            ],
            [
             -122.272416,
             37.825569
            ],
            [
             -122.274903,
             37.82608
            ],
            [
             -122.275399,
             37.826187
            ],
            [
             -122.277764,
             37.826637
            ],
            [
             -122.278115,
             37.826717
            ],
            [
             -122.281449,
             37.827484
            ],
            [
             -122.284462,
             37.827342
            ],
            [
             -122.284836,
             37.827255
            ],
            [
             -122.288613,
             37.82653
            ],
            [
             -122.290474,
             37.826992
            ],
            [
             -122.29641,
             37.827289
            ],
            [
             -122.302109,
             37.826045
            ],
            [
             -122.302643,
             37.825931
            ],
            [
             -122.303048,
             37.825843
            ],
            [
             -122.303399,
             37.825771
            ],
            [
             -122.313317,
             37.824855
            ],
            [
             -122.313836,
             37.824779
            ],
            [
             -122.31437,
             37.824687
            ],
            [
             -122.319665,
             37.823436
            ],
            [
             -122.320519,
             37.823154
            ],
            [
             -122.327797,
             37.822177
            ],
            [
             -122.360566,
             37.814331
            ],
            [
             -122.361306,
             37.813827
            ],
            [
             -122.364403,
             37.810798
            ],
            [
             -122.364899,
             37.810344
            ],
            [
             -122.365059,
             37.810199
            ],
            [
             -122.366326,
             37.808982
            ],
            [
             -122.367341,
             37.808082
            ],
            [
             -122.388276,
             37.788528
            ],
            [
             -122.391091,
             37.785919
            ],
            [
             -122.391472,
             37.785644
            ],
            [
             -122.395371,
             37.785949
            ],
            [
             -122.39576,
             37.786258
            ],
            [
             -122.395714,
             37.787372
            ],
            [
             -122.395585,
             37.787475
            ],
            [
             -122.395173,
             37.787799
            ],
            [
             -122.394959,
             37.787971
            ],
            [
             -122.394242,
             37.788532
            ],
            [
             -122.394402,
             37.788661
            ],
            [
             -122.394845,
             37.789005
            ],
            [
             -122.39515,
             37.78923
            ],
            [
             -122.395363,
             37.789402
            ],
            [
             -122.395707,
             37.789672
            ],
            [
             -122.396042,
             37.789939
            ],
            [
             -122.396172,
             37.790046
            ],
            [
             -122.396447,
             37.790264
            ],
            [
             -122.396691,
             37.790462
            ],
            [
             -122.397164,
             37.790836
            ],
            [
             -122.397248,
             37.790904
            ],
            [
             -122.397545,
             37.791149
            ],
            [
             -122.398301,
             37.791732
            ],
            [
             -122.39853,
             37.792022
            ],
            [
             -122.398613,
             37.792411
            ],
            [
             -122.399788,
             37.792259
            ],
            [
             -122.400963,
             37.792118
            ],
            [
             -122.401635,
             37.79203
            ],
            [
             -122.40178,
             37.792015
            ],
            [
             -122.401886,
             37.791999
            ],
            [
             -122.402199,
             37.791961
            ],
            [
             -122.402596,
             37.791908
            ],
            [
             -122.402413,
             37.790977
            ],
            [
             -122.402245,
             37.790172
            ]
           ],
           "type": "LineString"
          },
          "properties": {
           "style": {
            "color": "#ff0000",
            "weight": "3px"
           }
          },
          "type": "Feature"
         },
         {
          "geometry": {
           "coordinates": [
            [
             -122.258927,
             37.826179
            ],
            [
             -122.25971220173486,
             37.82491721453988
            ],
            [
             -122.26050707771314,
             37.82507130727864
            ],
            [
             -122.26066604253263,
             37.82490034402394
            ],
            [
             -122.26149951337636,
             37.82543710293082
            ],
            [
             -122.2624826490692,
             37.82544838100303
            ],
            [
             -122.2634447956123,
             37.825872160119296
            ],
            [
             -122.26509689298777,
             37.82663916775652
            ],
            [
             -122.26522088091723,
             37.826480619511266
            ],
            [
             -122.26496306276076,
             37.82678688248403
            ],
            [
             -122.2652168177147,
             37.826953423522184
            ],
            [
             -122.26496081613921,
             37.827188126963506
            ],
            [
             -122.26495574926525,
             37.8271600478428
            ],
            [
             -122.26481795812248,
             37.827748109512946
            ],
            [
             -122.26462867679227,
             37.82832821122787
            ],
            [
             -122.2648063946425,
             37.82846878542364
            ],
            [
             -122.26487619859788,
             37.82852002023357
            ],
            [
             -122.26460704461364,
             37.828948082016176
            ],
            [
             -122.26444196382087,
             37.829203485544625
            ],
            [
             -122.26556940390451,
             37.82937502952395
            ],
            [
             -122.26620190070118,
             37.82953388846254
            ],
            [
             -122.26793954397074,
             37.83001290828034
            ],
            [
             -122.26845037302672,
             37.829845297521594
            ],
            [
             -122.26820498608238,
             37.83057446025558
            ],
            [
             -122.268075311947,
             37.831489433881266
            ],
            [
             -122.26778811142418,
             37.83212874632917
            ],
            [
             -122.26772664803971,
             37.832952061265935
            ],
            [
             -122.26744597287085,
             37.8335910759549
            ],
            [
             -122.26718952952193,
             37.83438042929819
            ],
            [
             -122.26718692684223,
             37.8346685192639
            ],
            [
             -122.26642367865905,
             37.83423673743377
            ],
            [
             -122.26677121183234,
             37.83403705749447
            ],
            [
             -122.26669765027661,
             37.83374373574457
            ],
            [
             -122.26694309785945,
             37.83332756464642
            ],
            [
             -122.2667637011218,
             37.83318075041986
            ],
            [
             -122.26694223125301,
             37.8322472383322
            ],
            [
             -122.26706406009434,
             37.831610407576974
            ],
            [
             -122.2673030840088,
             37.8311573768347
            ],
            [
             -122.26734177419146,
             37.82977833419613
            ],
            [
             -122.26775191471863,
             37.82880089973906
            ],
            [
             -122.27164914159036,
             37.82548232997394
            ],
            [
             -122.27242059444906,
             37.825720654451246
            ],
            [
             -122.27482526487886,
             37.82605375736034
            ],
            [
             -122.27545721681338,
             37.82617891755918
            ],
            [
             -122.27786844393337,
             37.826734330173345
            ],
            [
             -122.27806675012813,
             37.82663419216505
            ],
            [
             -122.28164777004147,
             37.82746013834718
            ],
            [
             -122.28459163478361,
             37.82731383788011
            ],
            [
             -122.28494819309947,
             37.827206968290476
            ],
            [
             -122.28850839153178,
             37.82653282519049
            ],
            [
             -122.29049832901218,
             37.82692411664025
            ],
            [
             -122.29630527885546,
             37.82732794515589
            ],
            [
             -122.30208241045419,
             37.82595455988003
            ],
            [
             -122.30262112844464,
             37.8258741849145
            ],
            [
             -122.3030785693853,
             37.82592293022732
            ],
            [
             -122.303332260164,
             37.82570924479047
            ],
            [
             -122.31325568254692,
             37.82492245467828
            ],
            [
             -122.31382722025536,
             37.824942435597094
            ],
            [
             -122.31418702871144,
             37.82456836912217
            ],
            [
             -122.31981798199098,
             37.82347832164937
            ],
            [
             -122.32039060200708,
             37.82346383409499
            ],
            [
             -122.32779520619394,
             37.822147949296436
            ],
            [
             -122.36055099232024,
             37.81432409788929
            ],
            [
             -122.36144512989873,
             37.81363441003082
            ],
            [
             -122.3644006238974,
             37.810812150937174
            ],
            [
             -122.36508420283153,
             37.810408537849675
            ],
            [
             -122.36521740028313,
             37.81024423007578
            ],
            [
             -122.36638546788392,
             37.80899273318894
            ],
            [
             -122.36758154823025,
             37.807954819022505
            ],
            [
             -122.3883904460941,
             37.78846154548588
            ],
            [
             -122.39096102576465,
             37.78588971912865
            ],
            [
             -122.39154327582024,
             37.7856720721921
            ],
            [
             -122.39540307169683,
             37.785808351445816
            ],
            [
             -122.3958292221825,
             37.786291588808204
            ],
            [
             -122.39548347112182,
             37.78746466209529
            ],
            [
             -122.39553967451154,
             37.787479874604834
            ],
            [
             -122.39524164951806,
             37.787786136026035
            ],
            [
             -122.39498870281506,
             37.78803465444981
            ],
            [
             -122.39426186616453,
             37.78857720462313
            ],
            [
             -122.3942908832746,
             37.78861160048353
            ],
            [
             -122.39475649123531,
             37.788924649083796
            ],
            [
             -122.39507438334512,
             37.789228216316594
            ],
            [
             -122.39540699404583,
             37.78937973818569
            ],
            [
             -122.39595396236776,
             37.78971187927327
            ],
            [
             -122.39612417783849,
             37.79002904786672
            ],
            [
             -122.39612168305464,
             37.790053707865745
            ],
            [
             -122.39651044224263,
             37.79028493993961
            ],
            [
             -122.39659445298038,
             37.79040776565922
            ],
            [
             -122.39713940630017,
             37.79088890631147
            ],
            [
             -122.39727209154664,
             37.79098844243189
            ],
            [
             -122.39745002643154,
             37.791191015910364
            ],
            [
             -122.39822060973142,
             37.79182563995117
            ],
            [
             -122.3988431811663,
             37.79188114210566
            ],
            [
             -122.39877818839994,
             37.792376826206926
            ],
            [
             -122.39982137634046,
             37.79218121175907
            ],
            [
             -122.40093708019846,
             37.79207250409684
            ],
            [
             -122.4016286143864,
             37.791872755879766
            ],
            [
             -122.4018521149032,
             37.79210262888692
            ],
            [
             -122.4018400330601,
             37.792035512786576
            ],
            [
             -122.40228236024515,
             37.79190552569268
            ],
            [
             -122.40279313817823,
             37.79197185868204
            ],
            [
             -122.40228402792094,
             37.79079692435162
            ],
            [
             -122.40217011747652,
             37.790311391540975
            ]
           ],
           "type": "LineString"
          },
          "properties": {
           "style": {
            "color": "#0000ff",
            "weight": "3px"
           }
          },
          "type": "Feature"
         }
        ],
        "type": "FeatureCollection"
       },
       "msg_throttle": 1
      }
     },
     "d86fd811e6ec4298a952d1b8f7317b8c": {
      "model_module": "jupyter-js-widgets",
      "model_module_version": "~2.1.4",
      "model_name": "LayoutModel",
      "state": {
       "_model_module_version": "~2.1.4",
       "_view_module_version": "~2.1.4",
       "align_self": "stretch",
       "height": "400px"
      }
     },
     "dcbff684d45444258b21f374ee2efcf1": {
      "model_module": "jupyter-leaflet",
      "model_module_version": "*",
      "model_name": "LeafletTileLayerModel",
      "state": {
       "_model_module_version": "*",
       "_view_module_version": "*",
       "msg_throttle": 1,
       "options": [
        "opacity",
        "attribution",
        "max_zoom",
        "detect_retina",
        "min_zoom",
        "tile_size"
       ],
       "url": "http://stamen-tiles-{s}.a.ssl.fastly.net/toner-lite/{z}/{x}/{y}.png"
      }
     },
     "e2874f8b46494beeacf9bd96ed1f75e2": {
      "model_module": "jupyter-leaflet",
      "model_module_version": "*",
      "model_name": "LeafletGeoJSONModel",
      "state": {
       "_model_module_version": "*",
       "_view_module_version": "*",
       "data": {
        "features": [
         {
          "geometry": {
           "coordinates": [
            [
             -122.258927,
             37.826179
            ],
            [
             -122.259758,
             37.824851
            ],
            [
             -122.260468,
             37.825031
            ],
            [
             -122.26056,
             37.825054
            ],
            [
             -122.261612,
             37.825302
            ],
            [
             -122.262452,
             37.825485
            ],
            [
             -122.26355,
             37.825736
            ],
            [
             -122.265191,
             37.826457
            ],
            [
             -122.265145,
             37.826622
            ],
            [
             -122.265053,
             37.826965
            ],
            [
             -122.265038,
             37.827041
            ],
            [
             -122.264985,
             37.82722
            ],
            [
             -122.264946,
             37.827369
            ],
            [
             -122.264908,
             37.827518
            ],
            [
             -122.264718,
             37.828216
            ],
            [
             -122.264672,
             37.828392
            ],
            [
             -122.264649,
             37.828464
            ],
            [
             -122.264481,
             37.829105
            ],
            [
             -122.264451,
             37.829204
            ],
            [
             -122.265671,
             37.829391
            ],
            [
             -122.266037,
             37.829448
            ],
            [
             -122.267914,
             37.829746
            ],
            [
             -122.268425,
             37.82983
            ],
            [
             -122.268235,
             37.830585
            ],
            [
             -122.268006,
             37.831485
            ],
            [
             -122.26783,
             37.832183
            ],
            [
             -122.267655,
             37.832878
            ],
            [
             -122.267479,
             37.833583
            ],
            [
             -122.267304,
             37.834285
            ],
            [
             -122.267235,
             37.834526
            ],
            [
             -122.266694,
             37.834316
            ],
            [
             -122.266717,
             37.834079
            ],
            [
             -122.266785,
             37.833694
            ],
            [
             -122.266861,
             37.833301
            ],
            [
             -122.266854,
             37.833156
            ],
            [
             -122.267075,
             37.83226
            ],
            [
             -122.267174,
             37.83152
            ],
            [
             -122.26722,
             37.831188
            ],
            [
             -122.267411,
             37.829868
            ],
            [
             -122.267685,
             37.828845
            ],
            [
             -122.271874,
             37.82545
            ],
            [
             -122.272416,
             37.825569
            ],
            [
             -122.274903,
             37.82608
            ],
            [
             -122.275399,
             37.826187
            ],
            [
             -122.277764,
             37.826637
            ],
            [
             -122.278115,
             37.826717
            ],
            [
             -122.281449,
             37.827484
            ],
            [
             -122.284462,
             37.827342
            ],
            [
             -122.284836,
             37.827255
            ],
            [
             -122.288613,
             37.82653
            ],
            [
             -122.290474,
             37.826992
            ],
            [
             -122.29641,
             37.827289
            ],
            [
             -122.302109,
             37.826045
            ],
            [
             -122.302643,
             37.825931
            ],
            [
             -122.303048,
             37.825843
            ],
            [
             -122.303399,
             37.825771
            ],
            [
             -122.313317,
             37.824855
            ],
            [
             -122.313836,
             37.824779
            ],
            [
             -122.31437,
             37.824687
            ],
            [
             -122.319665,
             37.823436
            ],
            [
             -122.320519,
             37.823154
            ],
            [
             -122.327797,
             37.822177
            ],
            [
             -122.360566,
             37.814331
            ],
            [
             -122.361306,
             37.813827
            ],
            [
             -122.364403,
             37.810798
            ],
            [
             -122.364899,
             37.810344
            ],
            [
             -122.365059,
             37.810199
            ],
            [
             -122.366326,
             37.808982
            ],
            [
             -122.367341,
             37.808082
            ],
            [
             -122.388276,
             37.788528
            ],
            [
             -122.391091,
             37.785919
            ],
            [
             -122.391472,
             37.785644
            ],
            [
             -122.395371,
             37.785949
            ],
            [
             -122.39576,
             37.786258
            ],
            [
             -122.395714,
             37.787372
            ],
            [
             -122.395585,
             37.787475
            ],
            [
             -122.395173,
             37.787799
            ],
            [
             -122.394959,
             37.787971
            ],
            [
             -122.394242,
             37.788532
            ],
            [
             -122.394402,
             37.788661
            ],
            [
             -122.394845,
             37.789005
            ],
            [
             -122.39515,
             37.78923
            ],
            [
             -122.395363,
             37.789402
            ],
            [
             -122.395707,
             37.789672
            ],
            [
             -122.396042,
             37.789939
            ],
            [
             -122.396172,
             37.790046
            ],
            [
             -122.396447,
             37.790264
            ],
            [
             -122.396691,
             37.790462
            ],
            [
             -122.397164,
             37.790836
            ],
            [
             -122.397248,
             37.790904
            ],
            [
             -122.397545,
             37.791149
            ],
            [
             -122.398301,
             37.791732
            ],
            [
             -122.39853,
             37.792022
            ],
            [
             -122.398613,
             37.792411
            ],
            [
             -122.399788,
             37.792259
            ],
            [
             -122.400963,
             37.792118
            ],
            [
             -122.401635,
             37.79203
            ],
            [
             -122.40178,
             37.792015
            ],
            [
             -122.401886,
             37.791999
            ],
            [
             -122.402199,
             37.791961
            ],
            [
             -122.402596,
             37.791908
            ],
            [
             -122.402413,
             37.790977
            ],
            [
             -122.402245,
             37.790172
            ]
           ],
           "type": "LineString"
          },
          "properties": {
           "style": {
            "color": "#ff0000",
            "weight": "3px"
           }
          },
          "type": "Feature"
         },
         {
          "geometry": {
           "coordinates": [
            [
             -122.258927,
             37.826179
            ],
            [
             -122.25994179669017,
             37.82462465659389
            ],
            [
             -122.26107943126107,
             37.82434205065012
            ],
            [
             -122.26093931639076,
             37.82504434983003
            ],
            [
             -122.26122385263143,
             37.82549016961087
            ],
            [
             -122.262317622964,
             37.827660565257304
            ],
            [
             -122.2634374350051,
             37.8262417128798
            ],
            [
             -122.2621327828799,
             37.826069582255734
            ],
            [
             -122.26611627741464,
             37.82550065464373
            ],
            [
             -122.26386611424287,
             37.82813976440258
            ],
            [
             -122.2652299891641,
             37.82654119419116
            ],
            [
             -122.26459141793306,
             37.82674956949008
            ],
            [
             -122.26489143589212,
             37.8277370677084
            ],
            [
             -122.26482172392681,
             37.82869176461541
            ],
            [
             -122.26405973267416,
             37.82751889799635
            ],
            [
             -122.26328729856642,
             37.82759605133887
            ],
            [
             -122.26412426452147,
             37.82946883241045
            ],
            [
             -122.26575194579551,
             37.828850637237124
            ],
            [
             -122.26435440774479,
             37.82951827027355
            ],
            [
             -122.26529757277633,
             37.829095458345556
            ],
            [
             -122.26496270525361,
             37.83008357838314
            ],
            [
             -122.2673826656929,
             37.82983930623475
            ],
            [
             -122.26809685959564,
             37.82969938906688
            ],
            [
             -122.26741104416989,
             37.830888155253945
            ],
            [
             -122.26891683948155,
             37.83220334984264
            ],
            [
             -122.26767944149482,
             37.831090364017406
            ],
            [
             -122.26891525931585,
             37.83366296391108
            ],
            [
             -122.26868046197804,
             37.83437578363488
            ],
            [
             -122.26663706098036,
             37.83432804749319
            ],
            [
             -122.2678594974576,
             37.83413792858489
            ],
            [
             -122.26677203876957,
             37.834249334770256
            ],
            [
             -122.2671767755948,
             37.834659529735056
            ],
            [
             -122.26686680901551,
             37.83432160681069
            ],
            [
             -122.26573307716878,
             37.83297006064944
            ],
            [
             -122.26671358533433,
             37.83345305686941
            ],
            [
             -122.26740947823566,
             37.83287082496114
            ],
            [
             -122.26761905625735,
             37.83176356239093
            ],
            [
             -122.2665836643331,
             37.83205684611746
            ],
            [
             -122.26637974508975,
             37.829843902282434
            ],
            [
             -122.26872499140596,
             37.82969485235867
            ],
            [
             -122.2725837089569,
             37.82598122309078
            ],
            [
             -122.2723686913097,
             37.82503360075933
            ],
            [
             -122.27484459903697,
             37.82646805121476
            ],
            [
             -122.2748792556336,
             37.82511779442157
            ],
            [
             -122.2767954973916,
             37.82706565758498
            ],
            [
             -122.27824368029984,
             37.82635747442446
            ],
            [
             -122.27948828849635,
             37.827431860034714
            ],
            [
             -122.2839857034857,
             37.82703363750653
            ],
            [
             -122.28630499117146,
             37.82772973311689
            ],
            [
             -122.28895027911089,
             37.825620537186346
            ],
            [
             -122.29096537273116,
             37.826911771623585
            ],
            [
             -122.29700363256256,
             37.82613701927303
            ],
            [
             -122.30235122671657,
             37.82598365695904
            ],
            [
             -122.30406223195119,
             37.82562118583399
            ],
            [
             -122.3029119260299,
             37.82580651992375
            ],
            [
             -122.3055743206052,
             37.82587897053168
            ],
            [
             -122.31284255795514,
             37.825194276246144
            ],
            [
             -122.31360136894288,
             37.82471830319778
            ],
            [
             -122.31530876105205,
             37.8244710961011
            ],
            [
             -122.31981743698782,
             37.82413485893523
            ],
            [
             -122.32063039259751,
             37.821339387691296
            ],
            [
             -122.3271837990605,
             37.822294338605275
            ],
            [
             -122.35920138050787,
             37.81538413113092
            ],
            [
             -122.36198405306357,
             37.814915890385485
            ],
            [
             -122.36390926138061,
             37.81086088957679
            ],
            [
             -122.36608007273956,
             37.811109161942696
            ],
            [
             -122.36562118270301,
             37.808894030079394
            ],
            [
             -122.36656048457932,
             37.80978314645196
            ],
            [
             -122.36630689929723,
             37.80818276605912
            ],
            [
             -122.3894931471037,
             37.789423976670804
            ],
            [
             -122.39101770902606,
             37.78578568161328
            ],
            [
             -122.39261979809515,
             37.78668051354437
            ],
            [
             -122.39407035194174,
             37.78704791869211
            ],
            [
             -122.39522297655711,
             37.785634318933795
            ],
            [
             -122.39619699315165,
             37.785389671790746
            ],
            [
             -122.39466767189431,
             37.78707520189959
            ],
            [
             -122.39558383852152,
             37.788177753227245
            ],
            [
             -122.39539286801214,
             37.78822557989765
            ],
            [
             -122.39284490443065,
             37.78853559362165
            ],
            [
             -122.39351232155816,
             37.78743389362594
            ],
            [
             -122.39612000514425,
             37.789954951579496
            ],
            [
             -122.39659723566999,
             37.78923341348877
            ],
            [
             -122.3932594204348,
             37.78902997388554
            ],
            [
             -122.39537483456694,
             37.789811086974424
            ],
            [
             -122.39612888956029,
             37.79008988033668
            ],
            [
             -122.39633499079464,
             37.78917621811415
            ],
            [
             -122.39752881716795,
             37.78955336742868
            ],
            [
             -122.39685940758329,
             37.791144830495554
            ],
            [
             -122.39651123767995,
             37.78982711994187
            ],
            [
             -122.39825209051554,
             37.79072121571935
            ],
            [
             -122.39767434134029,
             37.79172491385901
            ],
            [
             -122.40000462784539,
             37.792022876436526
            ],
            [
             -122.39639031188374,
             37.791004216509286
            ],
            [
             -122.39929604366108,
             37.79171416238745
            ],
            [
             -122.40012848303462,
             37.79289667199499
            ],
            [
             -122.40166339076316,
             37.79353104086671
            ],
            [
             -122.39945343252839,
             37.792042284600285
            ],
            [
             -122.40071274047688,
             37.793192215875834
            ],
            [
             -122.40185959063571,
             37.79215608774054
            ],
            [
             -122.40138058473508,
             37.792691277288974
            ],
            [
             -122.39982412603177,
             37.790985545588335
            ],
            [
             -122.40294895211927,
             37.79123808325483
            ],
            [
             -122.40224560237804,
             37.78943595393978
            ]
           ],
           "type": "LineString"
          },
          "properties": {
           "style": {
            "color": "#0000ff",
            "weight": "3px"
           }
          },
          "type": "Feature"
         }
        ],
        "type": "FeatureCollection"
       },
       "msg_throttle": 1
      }
     },
     "eb939186f78d45548f590a723da6dc4c": {
      "model_module": "jupyter-js-widgets",
      "model_module_version": "~2.1.4",
      "model_name": "LayoutModel",
      "state": {
       "_model_module_version": "~2.1.4",
       "_view_module_version": "~2.1.4",
       "align_self": "stretch",
       "height": "400px"
      }
     },
     "f23bba665dae4881bb4b041b038da86e": {
      "model_module": "jupyter-js-widgets",
      "model_module_version": "~2.1.4",
      "model_name": "LayoutModel",
      "state": {
       "_model_module_version": "~2.1.4",
       "_view_module_version": "~2.1.4",
       "align_self": "stretch",
       "height": "400px"
      }
     }
    },
    "version_major": 1,
    "version_minor": 0
   }
  }
 },
 "nbformat": 4,
 "nbformat_minor": 0
}
