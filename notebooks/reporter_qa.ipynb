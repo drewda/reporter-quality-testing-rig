{
 "cells": [
  {
   "cell_type": "code",
   "execution_count": 204,
   "metadata": {
    "collapsed": false,
    "deletable": true,
    "editable": true
   },
   "outputs": [],
   "source": [
    "from __future__ import division\n",
    "import requests\n",
    "import time as t\n",
    "from mpl_toolkits.basemap import Basemap\n",
    "from shapely.geometry import LineString\n",
    "from matplotlib import pyplot as plt\n",
    "import numpy as np\n",
    "import os\n",
    "import urllib\n",
    "import json\n",
    "import pandas as pd\n",
    "from random import shuffle\n",
    "from geojson import LineString, Feature, Point, FeatureCollection, dumps\n",
    "import itertools\n",
    "%matplotlib inline"
   ]
  },
  {
   "cell_type": "markdown",
   "metadata": {
    "deletable": true,
    "editable": true
   },
   "source": [
    "# Env vars and functions"
   ]
  },
  {
   "cell_type": "code",
   "execution_count": 205,
   "metadata": {
    "collapsed": false,
    "deletable": true,
    "editable": true
   },
   "outputs": [],
   "source": [
    "mapsApiKey = os.environ.get('GOOGLE_MAPS')\n",
    "\n",
    "def decode(encoded):\n",
    "    inv = 1.0 / 1e6\n",
    "    decoded = []\n",
    "    previous = [0,0]\n",
    "    i = 0\n",
    "    while i < len(encoded):\n",
    "        ll = [0,0]\n",
    "        for j in [0, 1]:\n",
    "            shift = 0\n",
    "            byte = 0x20\n",
    "            while byte >= 0x20:\n",
    "                byte = ord(encoded[i]) - 63\n",
    "                i += 1\n",
    "                ll[j] |= (byte & 0x1f) << shift\n",
    "                shift += 5\n",
    "            ll[j] = previous[j] + (~(ll[j] >> 1) if ll[j] & 1 else (ll[j] >> 1))\n",
    "            previous[j] = ll[j]\n",
    "        decoded.append([float('%.6f' % (ll[1] * inv)), float('%.6f' % (ll[0] * inv))])\n",
    "    return decoded\n",
    "\n",
    "\n",
    "def synthesize_gps(edges, shape, distribution=\"normal\", stddev=0, uuid='999999'):\n",
    "    \n",
    "    jsonDict = {\"uuid\": uuid, \"trace\":[]}\n",
    "    trueRouteCoords = []\n",
    "    gpsRouteCoords = []\n",
    "    coords = decode(shape)\n",
    "    minCoordIndex = min([edge['end_shape_index'] for edge in edges])\n",
    "    maxCoordIndex = max([edge['end_shape_index'] for edge in edges])\n",
    "    if maxCoordIndex >= len(coords):\n",
    "        return None, None\n",
    "    sttm = t.time() - 86400   # yesterday\n",
    "    \n",
    "    for i, edge in enumerate(edges):\n",
    "\n",
    "        dist = edge['length']\n",
    "        speed = edge['speed']\n",
    "        \n",
    "        beginShapeIndex = edge['begin_shape_index']\n",
    "        endShapeIndex = edge['end_shape_index']\n",
    "        lon, lat = coords[endShapeIndex]\n",
    "        \n",
    "\n",
    "        if i == 0:\n",
    "            st_lon, st_lat = coords[beginShapeIndex]\n",
    "            trueRouteCoords.append([st_lon, st_lat])\n",
    "        trueRouteCoords.append([lon, lat])\n",
    "        \n",
    "        if stddev > 0:\n",
    "            avgLat = np.mean(np.array(coords)[:, 1])\n",
    "            stddevLon = stddev / 111.111     # approx. 111.111 km per deg lon unless very close to the poles\n",
    "            stddevLat = stddev / (111.111 * np.cos(avgLat))     # approx 111.111 km * cos(lat) per deg lat\n",
    "            lon += np.random.normal(scale=stddevLon)\n",
    "            lat += np.random.normal(scale=stddevLat)\n",
    "        dur = dist / speed * 3600.0\n",
    "        time = sttm + dur\n",
    "        time = int(round(time))\n",
    "        if i == 0:\n",
    "            st_lon, st_lat = coords[beginShapeIndex]\n",
    "            jsonDict[\"trace\"].append({\"lat\":st_lat,\"lon\":st_lon,\"time\":sttm, \"accuracy\": min(5, stddev * 1e3)})\n",
    "            gpsRouteCoords.append([st_lon, st_lat])\n",
    "        jsonDict[\"trace\"].append({\"lat\": lat,\"lon\":lon,\"time\":time, \"accuracy\": min(5, stddev * 1e3)})\n",
    "        gpsRouteCoords.append([lon, lat])\n",
    "        sttm = time\n",
    "    \n",
    "    geojson = FeatureCollection([\n",
    "        Feature(geometry=LineString(trueRouteCoords), properties={\"stroke\": \"#ff0000\",\n",
    "            \"stroke-width\": 2,\n",
    "            \"stroke-opacity\": 1}),\n",
    "        Feature(geometry=LineString(gpsRouteCoords), properties={\"stroke\": \"#0000ff\",\n",
    "            \"stroke-width\": 2,\n",
    "            \"stroke-opacity\": 1,\n",
    "            \"strokeColor\": \"#fff\"})])\n",
    "    return jsonDict, geojson\n",
    "\n",
    "\n",
    "def get_route_shape(stLat, stLon, endLat, endLon):\n",
    "    \n",
    "    jsonDict = {\"locations\":[\n",
    "        {\"lat\":stLat,\"lon\":stLon,\"type\":\"break\"},\n",
    "        {\"lat\":endLat,\"lon\":endLon,\"type\":\"break\"}],\n",
    "            \"costing\":\"auto\",\n",
    "            \"id\":\"my_work_route\"}\n",
    "    \n",
    "    baseUrl = 'http://valhalla:8002/route'\n",
    "    route = requests.post(baseUrl, json=jsonDict)\n",
    "    shape = route.json()['trip']['legs'][0]['shape']\n",
    "    \n",
    "    if route.status_code == 200:\n",
    "        return shape\n",
    "    else:\n",
    "        print 'No shape returned'\n",
    "        \n",
    "        \n",
    "def get_trace_attrs(shape):\n",
    "    \n",
    "    jsonDict = {\n",
    "        \"encoded_polyline\": shape,\n",
    "        \"costing\": \"auto\",\n",
    "        \"directions_options\": {\n",
    "            \"units\": \"kilometers\"\n",
    "        },\n",
    "        \"shape_match\": \"map_snap\",\n",
    "        \"trace_options\": {\n",
    "            \"turn_penalty_factor\": 500\n",
    "        }\n",
    "    }\n",
    "    payload = {\"json\": json.dumps(jsonDict, separators=(',',':'))}\n",
    "    baseUrl = 'http://valhalla:8002/trace_attributes?'\n",
    "    matched = requests.get(baseUrl, params=payload)\n",
    "    edges = matched.json()['edges']\n",
    "    \n",
    "    return edges, matched.url\n",
    "\n",
    "\n",
    "def format_edge_df(edges):\n",
    "    \n",
    "    dfEdges = pd.DataFrame(edges)\n",
    "    dfEdges = dfEdges[['begin_shape_index','end_shape_index','length','speed','traffic_segments']]\n",
    "    dfEdges['segment_id'] = dfEdges['traffic_segments'].apply(lambda x : str(x[0]['segment_id']) if type(x) is list else None)\n",
    "    dfEdges['starts_segment'] = dfEdges['traffic_segments'].apply(lambda x : x[0]['starts_segment'] if type(x) is list else None)\n",
    "    dfEdges['ends_segment'] = dfEdges['traffic_segments'].apply(lambda x : x[0]['starts_segment'] if type(x) is list else None)\n",
    "    dfEdges['begin_percent'] = dfEdges['traffic_segments'].apply(lambda x : x[0]['begin_percent'] if type(x) is list else None)\n",
    "    dfEdges['end_percent'] = dfEdges['traffic_segments'].apply(lambda x : x[0]['end_percent'] if type(x) is list else None)\n",
    "    dfEdges.drop('traffic_segments', axis=1,inplace=True)\n",
    "    \n",
    "    return dfEdges\n",
    "\n",
    "\n",
    "def get_reporter_segments(gpsTrace):\n",
    "    \n",
    "    baseUrl = 'http://reporter:8003/report'\n",
    "    payload = {\"json\": json.dumps(gpsTrace,separators=(',',':'))}\n",
    "    report = requests.get(baseUrl, params=payload)\n",
    "    if report.status_code == 200:\n",
    "        segments = report.json()['segments']\n",
    "    else:\n",
    "        print(report.reason)\n",
    "        return None, report.url\n",
    "    if len(segments) > 0:\n",
    "        return segments, report.url\n",
    "    else:\n",
    "        return 0, report.url\n",
    "    \n",
    "        \n",
    "def get_matches(segments, dfEdges):\n",
    "    \n",
    "    matches = dfEdges.copy()\n",
    "    matches.loc[:, 'matched_segment_id'] = None\n",
    "    for segment in segments:\n",
    "        matches.loc[segment['begin_shape_index']:segment['end_shape_index'], 'matched_segment_id'] = str(segment['segment_id'])\n",
    "    matches.loc[:,'match'] = matches['segment_id'] == matches['matched_segment_id']\n",
    "    score = np.sum(matches['match']) / len(matches[~pd.isnull(matches['segment_id'])])\n",
    "    return matches, score\n",
    "\n",
    "\n",
    "def get_POI_routes(locString, numResults, apiKey):\n",
    "    \n",
    "    url = 'https://maps.googleapis.com/maps/api/place/textsearch/json?query={0}&radius={1}&key={2}'\n",
    "    url = url.format(\"{0} point of interest\".format(locString), 25000, apiKey)\n",
    "    r = requests.get(url)\n",
    "    POIs = [{x['name']:{\"lat\":x['geometry']['location']['lat'],\"lon\":x['geometry']['location']['lng']}} for x in r.json()['results']]\n",
    "    routeList = list(itertools.combinations(POIs, 2))\n",
    "    shuffle(routeList)\n",
    "    numResults = min(len(routeList), numResults)\n",
    "    routeList = routeList[:numResults]\n",
    "    return routeList"
   ]
  },
  {
   "cell_type": "markdown",
   "metadata": {
    "deletable": true,
    "editable": true
   },
   "source": [
    "# Open Traffic Reporter Validation Service "
   ]
  },
  {
   "cell_type": "markdown",
   "metadata": {
    "deletable": true,
    "editable": true
   },
   "source": [
    "### 1. Generate Random Routes from Google Maps API"
   ]
  },
  {
   "cell_type": "code",
   "execution_count": 95,
   "metadata": {
    "collapsed": false,
    "deletable": true,
    "editable": true
   },
   "outputs": [],
   "source": [
    "routeList = get_POI_routes('San Francisco', 10, mapsApiKey)"
   ]
  },
  {
   "cell_type": "code",
   "execution_count": 206,
   "metadata": {
    "collapsed": false,
    "deletable": true,
    "editable": true
   },
   "outputs": [
    {
     "data": {
      "text/plain": [
       "[({u'San Francisco Museum of Modern Art': {'lat': 37.7857182,\n",
       "    'lon': -122.4010508}},\n",
       "  {u'PIER 39': {'lat': 37.808673, 'lon': -122.409821}}),\n",
       " ({u'de Young Museum': {'lat': 37.771469, 'lon': -122.4686755}},\n",
       "  {u'Legion of Honor': {'lat': 37.7844661, 'lon': -122.5008419}}),\n",
       " ({u'Exploratorium': {'lat': 37.8008433, 'lon': -122.3986299}},\n",
       "  {u'San Francisco Museum of Modern Art': {'lat': 37.7857182,\n",
       "    'lon': -122.4010508}}),\n",
       " ({u'de Young Museum': {'lat': 37.771469, 'lon': -122.4686755}},\n",
       "  {u'Golden Gate Bridge': {'lat': 37.8199286, 'lon': -122.4782551}}),\n",
       " ({u'Asian Art Museum': {'lat': 37.78016369999999, 'lon': -122.4161985}},\n",
       "  {u'Exploratorium': {'lat': 37.8008433, 'lon': -122.3986299}}),\n",
       " ({u'California Academy of Sciences': {'lat': 37.76986459999999,\n",
       "    'lon': -122.4660947}},\n",
       "  {u'PIER 39': {'lat': 37.808673, 'lon': -122.409821}}),\n",
       " ({u'Exploratorium': {'lat': 37.8008433, 'lon': -122.3986299}},\n",
       "  {u'USS Pampanito': {'lat': 37.8099492, 'lon': -122.4164198}}),\n",
       " ({u'California Academy of Sciences': {'lat': 37.76986459999999,\n",
       "    'lon': -122.4660947}},\n",
       "  {u'Fort Point': {'lat': 37.8105867, 'lon': -122.4771066}}),\n",
       " ({u'Twin Peaks': {'lat': 37.7525098, 'lon': -122.4475683}},\n",
       "  {u'San Francisco Museum of Modern Art': {'lat': 37.7857182,\n",
       "    'lon': -122.4010508}}),\n",
       " ({u'Cable Car Museum': {'lat': 37.7947043, 'lon': -122.4117199}},\n",
       "  {u'USS Pampanito': {'lat': 37.8099492, 'lon': -122.4164198}})]"
      ]
     },
     "execution_count": 206,
     "metadata": {},
     "output_type": "execute_result"
    }
   ],
   "source": [
    "routeList"
   ]
  },
  {
   "cell_type": "markdown",
   "metadata": {
    "deletable": true,
    "editable": true
   },
   "source": [
    "### 2. Iterate through each route, saving results to the ../data/ directory"
   ]
  },
  {
   "cell_type": "code",
   "execution_count": 183,
   "metadata": {
    "collapsed": false,
    "deletable": true,
    "editable": true,
    "scrolled": true
   },
   "outputs": [
    {
     "name": "stdout",
     "output_type": "stream",
     "text": [
      "0\n",
      "1\n",
      "2\n",
      "3\n",
      "4\n",
      "5\n",
      "6\n",
      "7\n",
      "8\n",
      "9\n"
     ]
    }
   ],
   "source": [
    "df = pd.DataFrame(columns=['route','noise','score','trace_attr_url','reporter_url'])\n",
    "outDfRow = -1\n",
    "\n",
    "\n",
    "for i, rteCoords in enumerate(routeList):\n",
    "    \n",
    "    print i\n",
    "    \n",
    "    stName = rteCoords[0].keys()[0]\n",
    "    stLat = rteCoords[0].values()[0]['lat']\n",
    "    stLon = rteCoords[0].values()[0]['lon']\n",
    "    endName = rteCoords[1].keys()[0]\n",
    "    endLat = rteCoords[1].values()[0]['lat']\n",
    "    endLon = rteCoords[1].values()[0]['lon']\n",
    "\n",
    "    shape = get_route_shape(stLat, stLon, endLat, endLon)\n",
    "    edges, traceAttrUrl = get_trace_attrs(shape)\n",
    "    \n",
    "    noiseLevels = np.linspace(0, 0.1, 10)\n",
    "    scores = []\n",
    "    \n",
    "    for noise in noiseLevels:\n",
    "        \n",
    "        noise = round(noise,3)\n",
    "        outDfRow += 1\n",
    "        routeName = '{0}_to_{1}'.format(stName, endName)\n",
    "        df.loc[outDfRow, ['route', 'noise','trace_attr_url']] = [routeName, noise, traceAttrUrl]\n",
    "        dfEdges = format_edge_df(edges)\n",
    "        jsonDict, geojson = synthesize_gps(edges, shape, stddev=noise)\n",
    "        if jsonDict is None or geojson is None:\n",
    "            msg = \"Trace attributes tried to call more edges than are present in the route shape\".format(\n",
    "            routeName)\n",
    "            df.loc[outDfRow, ['score', 'reporter_url']] = [None, msg]\n",
    "            continue\n",
    "        segments, reportUrl = get_reporter_segments(jsonDict)\n",
    "        if segments is None:\n",
    "            continue\n",
    "        elif segments == 0:\n",
    "            msg = 'Reporter found 0 segments for {0} at noise level {1}'.format(\n",
    "            routeName, noise)\n",
    "            df.loc[outDfRow, ['score', 'reporter_url']] = [None, msg]\n",
    "            continue\n",
    "        matches, score = get_matches(segments, dfEdges)\n",
    "        df.loc[outDfRow, ['score', 'reporter_url']] = [score, reportUrl]\n",
    "        \n",
    "        matches.to_csv(\n",
    "            '../data/matches_{0}_to_{1}_w_{2}_km_noise.csv'.format(\n",
    "                stName, endName, str(noise), index=False))\n",
    "        with open('../data/trace_{0}_to_{1}_w_{2}_km_noise.geojson'.format(\n",
    "            stName, endName, str(noise)), 'w+') as fp:\n",
    "            json.dump(geojson, fp)"
   ]
  },
  {
   "cell_type": "markdown",
   "metadata": {
    "deletable": true,
    "editable": true
   },
   "source": [
    "### 3. Plot the results"
   ]
  },
  {
   "cell_type": "code",
   "execution_count": null,
   "metadata": {
    "collapsed": true,
    "deletable": true,
    "editable": true
   },
   "outputs": [],
   "source": [
    "df['score'] = df['score'].astype(float)"
   ]
  },
  {
   "cell_type": "code",
   "execution_count": 185,
   "metadata": {
    "collapsed": false,
    "deletable": true,
    "editable": true
   },
   "outputs": [
    {
     "data": {
      "image/png": "[encoded data removed]",
      "text/plain": [
       "<matplotlib.figure.Figure at 0x7fc20a63ff10>"
      ]
     },
     "metadata": {},
     "output_type": "display_data"
    }
   ],
   "source": [
    "fig, ax = plt.subplots(figsize=(12,8))\n",
    "df.boxplot(column='score',by='noise', ax=ax, grid=False)\n",
    "ax.set_xlabel('Noise (m)', fontsize=15)\n",
    "ax.set_ylabel('Match rate', fontsize=15)\n",
    "ax.set_title('')\n",
    "fig.suptitle('')\n",
    "fig.savefig('./../data/score_vs_noise.png')"
   ]
  },
  {
   "cell_type": "markdown",
   "metadata": {
    "deletable": true,
    "editable": true
   },
   "source": [
    "### 4. Save the scores"
   ]
  },
  {
   "cell_type": "code",
   "execution_count": 186,
   "metadata": {
    "collapsed": true,
    "deletable": true,
    "editable": true
   },
   "outputs": [],
   "source": [
    "df.to_csv('../data/master_scores.csv', index=False)"
   ]
  }
 ],
 "metadata": {
  "kernelspec": {
   "display_name": "Python 2",
   "language": "python",
   "name": "python2"
  },
  "language_info": {
   "codemirror_mode": {
    "name": "ipython",
    "version": 2
   },
   "file_extension": ".py",
   "mimetype": "text/x-python",
   "name": "python",
   "nbconvert_exporter": "python",
   "pygments_lexer": "ipython2",
   "version": "2.7.13"
  }
 },
 "nbformat": 4,
 "nbformat_minor": 0
}
