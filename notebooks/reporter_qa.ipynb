{
 "cells": [
  {
   "cell_type": "code",
   "execution_count": 1,
   "metadata": {
    "collapsed": false,
    "deletable": true,
    "editable": true
   },
   "outputs": [],
   "source": [
    "import requests\n",
    "import time as t\n",
    "from mpl_toolkits.basemap import Basemap\n",
    "from shapely.geometry import LineString\n",
    "from matplotlib import pyplot as plt\n",
    "import numpy as np\n",
    "import os\n",
    "import urllib\n",
    "import json\n",
    "%matplotlib inline"
   ]
  },
  {
   "cell_type": "markdown",
   "metadata": {
    "deletable": true,
    "editable": true
   },
   "source": [
    "# Env vars and functions"
   ]
  },
  {
   "cell_type": "code",
   "execution_count": 2,
   "metadata": {
    "collapsed": false,
    "deletable": true,
    "editable": true
   },
   "outputs": [],
   "source": [
    "def decode(encoded):\n",
    "    inv = 1.0 / 1e6\n",
    "    decoded = []\n",
    "    previous = [0,0]\n",
    "    i = 0\n",
    "    while i < len(encoded):\n",
    "        ll = [0,0]\n",
    "        for j in [0, 1]:\n",
    "            shift = 0\n",
    "            byte = 0x20\n",
    "            while byte >= 0x20:\n",
    "                byte = ord(encoded[i]) - 63\n",
    "                i += 1\n",
    "                ll[j] |= (byte & 0x1f) << shift\n",
    "                shift += 5\n",
    "            ll[j] = previous[j] + (~(ll[j] >> 1) if ll[j] & 1 else (ll[j] >> 1))\n",
    "            previous[j] = ll[j]\n",
    "        decoded.append([float('%.6f' % (ll[1] * inv)), float('%.6f' % (ll[0] * inv))])\n",
    "    return decoded\n",
    "\n",
    "\n",
    "def synthesize_gps(edges, shape, distribution=\"normal\", stddev=None,uuid='999999'):\n",
    "    \n",
    "    jsonDict = {\"uuid\":\"100343\", \"trace\":[]}\n",
    "    coords = decode(shape)\n",
    "    sttm = t.time() - 100000\n",
    "    \n",
    "    for i, edge in enumerate(edges):\n",
    "        dist = edge['length']\n",
    "        speed = edge['speed']\n",
    "        beginShapeIndex = edge['begin_shape_index']\n",
    "        endShapeIndex = edge['end_shape_index']\n",
    "        lon, lat = coords[endShapeIndex]\n",
    "        if stddev is not None:\n",
    "            avgLat = np.mean(np.array(coords)[:,1])\n",
    "            stddevLon = stddev / 111.111     # approx. 111.111 km per deg lon unless very close to the poles\n",
    "            stddevLat = stddev / (111.111 * np.cos(avgLat))     # approx 111.111 km * cos(lat) per deg lat\n",
    "            lon += np.random.normal(scale=stddevLon)\n",
    "            lat += np.random.normal(scale=stddevLat)\n",
    "        dur = dist / speed * 3600.0\n",
    "        time = sttm + dur\n",
    "        time = int(round(time))\n",
    "        if i == 0:\n",
    "            st_lon, st_lat = coords[beginShapeIndex]\n",
    "            jsonDict[\"trace\"].append({\"lat\":st_lat,\"lon\":st_lon,\"time\":time})\n",
    "        jsonDict[\"trace\"].append({\"lat\": lat,\"lon\":lon,\"time\":time})\n",
    "        sttm = time\n",
    "\n",
    "    return jsonDict"
   ]
  },
  {
   "cell_type": "markdown",
   "metadata": {
    "deletable": true,
    "editable": true
   },
   "source": [
    "# Open Traffic Reporter Validation Service "
   ]
  },
  {
   "cell_type": "markdown",
   "metadata": {
    "deletable": true,
    "editable": true
   },
   "source": [
    "### 1. Get New Route"
   ]
  },
  {
   "cell_type": "code",
   "execution_count": 3,
   "metadata": {
    "collapsed": false,
    "deletable": true,
    "editable": true
   },
   "outputs": [],
   "source": [
    "# # 349 38th\n",
    "# stLat = 37.8261\n",
    "# stLon = -122.25872\n",
    "\n",
    "# 2527 24th \n",
    "stLat = 37.75286\n",
    "stLon = -122.40486\n",
    "\n",
    "endLat = 37.790168\n",
    "endLon = -122.402264\n",
    "\n",
    "jsonDict = {\"locations\":[\n",
    "        {\"lat\":stLat,\"lon\":stLon,\"type\":\"break\"},\n",
    "        {\"lat\":endLat,\"lon\":endLon,\"type\":\"break\"}],\n",
    "            \"costing\":\"auto\",\n",
    "            \"id\":\"my_work_route\"}"
   ]
  },
  {
   "cell_type": "markdown",
   "metadata": {
    "deletable": true,
    "editable": true
   },
   "source": [
    "#### from mapzen.com "
   ]
  },
  {
   "cell_type": "code",
   "execution_count": 5,
   "metadata": {
    "collapsed": false,
    "deletable": true,
    "editable": true
   },
   "outputs": [],
   "source": [
    "# baseUrl = 'https://valhalla.mapzen.com/route'\n",
    "# apiKey = os.environ.get('MAPZEN_API')\n",
    "# payload = {\"json\": json.dumps(jsonDict), \"apiKey\": apiKey}\n",
    "# route = requests.get(baseUrl, params=payload)"
   ]
  },
  {
   "cell_type": "markdown",
   "metadata": {
    "deletable": true,
    "editable": true
   },
   "source": [
    "#### from local valhalla server (via docker)"
   ]
  },
  {
   "cell_type": "code",
   "execution_count": 5,
   "metadata": {
    "collapsed": false,
    "deletable": true,
    "editable": true
   },
   "outputs": [],
   "source": [
    "baseUrl = 'http://localhost:8002/route?json='\n",
    "route = requests.get(baseUrl + json.dumps(jsonDict))"
   ]
  },
  {
   "cell_type": "code",
   "execution_count": 8,
   "metadata": {
    "collapsed": false,
    "deletable": true,
    "editable": true
   },
   "outputs": [
    {
     "name": "stdout",
     "output_type": "stream",
     "text": [
      "200\n"
     ]
    }
   ],
   "source": [
    "print route.status_code\n",
    "shape = route.json()['trip']['legs'][0]['shape']"
   ]
  },
  {
   "cell_type": "markdown",
   "metadata": {
    "deletable": true,
    "editable": true
   },
   "source": [
    "### 2. Pass Route Shape to Map Matching API "
   ]
  },
  {
   "cell_type": "code",
   "execution_count": 9,
   "metadata": {
    "collapsed": true,
    "deletable": true,
    "editable": true
   },
   "outputs": [],
   "source": [
    "payload = {\n",
    "    \"encoded_polyline\": shape,\n",
    "    \"costing\": \"pedestrian\",\n",
    "    \"directions_options\": {\n",
    "        \"units\": \"kilometers\"\n",
    "    },\n",
    "    \"shape_match\": \"map_snap\",\n",
    "    \"trace_options\": {\n",
    "        \"turn_penalty_factor\": 500\n",
    "    }\n",
    "}"
   ]
  },
  {
   "cell_type": "markdown",
   "metadata": {
    "deletable": true,
    "editable": true
   },
   "source": [
    "#### from mapzen.com"
   ]
  },
  {
   "cell_type": "code",
   "execution_count": 59,
   "metadata": {
    "collapsed": false,
    "deletable": true,
    "editable": true
   },
   "outputs": [],
   "source": [
    "# baseUrl = 'https://valhalla.mapzen.com/trace_attributes?'\n",
    "# apiKey = os.environ.get('MAPZEN_API')\n",
    "# baseUrl += 'api_key=' + apiKey"
   ]
  },
  {
   "cell_type": "markdown",
   "metadata": {
    "deletable": true,
    "editable": true
   },
   "source": [
    "#### from local valhalla server"
   ]
  },
  {
   "cell_type": "code",
   "execution_count": 10,
   "metadata": {
    "collapsed": true,
    "deletable": true,
    "editable": true
   },
   "outputs": [],
   "source": [
    "baseUrl = 'http://valhalla:8002/trace_attributes?'"
   ]
  },
  {
   "cell_type": "code",
   "execution_count": 11,
   "metadata": {
    "collapsed": true,
    "deletable": true,
    "editable": true
   },
   "outputs": [],
   "source": [
    "matched = requests.post(baseUrl, json=payload)"
   ]
  },
  {
   "cell_type": "code",
   "execution_count": 12,
   "metadata": {
    "collapsed": false,
    "deletable": true,
    "editable": true
   },
   "outputs": [
    {
     "name": "stdout",
     "output_type": "stream",
     "text": [
      "Matched 160 points. Showing the first below: \n",
      "{u'lon': -122.404884, u'distance_from_trace_point': 0.0, u'distance_along_edge': 0.52, u'type': u'matched', u'lat': 37.753098, u'edge_index': 0}\n"
     ]
    }
   ],
   "source": [
    "print 'Matched {0} points. Showing the first below: \\n{1}'.format(\n",
    "    len(matched.json()['matched_points']), matched.json()['matched_points'][0])"
   ]
  },
  {
   "cell_type": "code",
   "execution_count": 13,
   "metadata": {
    "collapsed": false,
    "deletable": true,
    "editable": true
   },
   "outputs": [
    {
     "name": "stdout",
     "output_type": "stream",
     "text": [
      "Got 93 edges. Showing the first below: \n",
      " {u'drive_on_right': True, u'max_downward_grade': 32768, u'end_heading': 265, u'surface': u'paved_smooth', u'names': [u'24th Street'], u'end_shape_index': 1, u'way_id': 24444478, u'speed': 35, u'id': 775381703218, u'pedestrian_type': u'foot', u'use': u'road', u'density': 14, u'begin_shape_index': 0, u'max_upward_grade': 32768, u'traversability': u'both', u'lane_count': 0, u'travel_mode': u'pedestrian', u'mean_elevation': 32768, u'weighted_grade': 0.0, u'end_node': {u'intersecting_edges': [{u'to_edge_name_consistency': False, u'walkability': u'both', u'begin_heading': 356, u'driveability': u'both', u'from_edge_name_consistency': False, u'cyclability': u'both'}, {u'to_edge_name_consistency': False, u'walkability': u'both', u'begin_heading': 175, u'driveability': u'both', u'from_edge_name_consistency': False, u'cyclability': u'both'}], u'elapsed_time': 29, u'type': u'street_intersection', u'time_zone': u'PST-08PDT+01,M3.2.0/02:00,M11.1.0/02:00', u'admin_index': 0}, u'road_class': u'residential', u'begin_heading': 265, u'bicycle_network': 0, u'traffic_segments': [{u'begin_percent': 0.0, u'starts_segment': True, u'ends_segment': True, u'end_percent': 1.0, u'segment_id': 600194013746}], u'length': 0.041}\n"
     ]
    }
   ],
   "source": [
    "edges = matched.json()['edges']\n",
    "print 'Got {0} edges. Showing the first below: \\n {1}'.format(len(edges), edges[0])"
   ]
  },
  {
   "cell_type": "markdown",
   "metadata": {
    "deletable": true,
    "editable": true
   },
   "source": [
    "### 3. Create Fake GPS traces"
   ]
  },
  {
   "cell_type": "markdown",
   "metadata": {
    "deletable": true,
    "editable": true
   },
   "source": [
    "#### Extract coords from routes.shape, perturb, and save to map-matched json"
   ]
  },
  {
   "cell_type": "code",
   "execution_count": 14,
   "metadata": {
    "collapsed": false,
    "deletable": true,
    "editable": true
   },
   "outputs": [],
   "source": [
    "jsonDict = synthesize_gps(edges, shape, stddev=0.05)   # stddev in km"
   ]
  },
  {
   "cell_type": "code",
   "execution_count": 15,
   "metadata": {
    "collapsed": false,
    "deletable": true,
    "editable": true
   },
   "outputs": [
    {
     "name": "stdout",
     "output_type": "stream",
     "text": [
      "Sending 94 fake GPS measurements to the reporter\n"
     ]
    }
   ],
   "source": [
    "print 'Sending {0} fake GPS measurements to the reporter'.format(len(jsonDict['trace']))"
   ]
  },
  {
   "cell_type": "markdown",
   "metadata": {
    "deletable": true,
    "editable": true
   },
   "source": [
    "### 4. Send Fake GPS to Reporter"
   ]
  },
  {
   "cell_type": "code",
   "execution_count": 16,
   "metadata": {
    "collapsed": false,
    "deletable": true,
    "editable": true
   },
   "outputs": [],
   "source": [
    "baseUrl = 'http://reporter:8003/report?json='\n",
    "report = requests.get(baseUrl + json.dumps(jsonDict))"
   ]
  },
  {
   "cell_type": "code",
   "execution_count": 17,
   "metadata": {
    "collapsed": false,
    "deletable": true,
    "editable": true
   },
   "outputs": [
    {
     "name": "stdout",
     "output_type": "stream",
     "text": [
      "Reporter matched 94 GPS measurements to 45 OSMLR segments. Showing the first below: \n",
      "{u'segment_id': 190220441225, u'begin_shape_index': 59, u'start_time': 1495571978.0, u'length': 192, u'end_time': 1495571979.721, u'end_shape_index': 59}\n"
     ]
    }
   ],
   "source": [
    "segments = report.json()['segments']\n",
    "print 'Reporter matched {0} GPS measurements to {1} OSMLR segments. Showing the first below: \\n{2}'.format(\n",
    "    len(jsonDict['trace']),len(segments), segments[25])"
   ]
  }
 ],
 "metadata": {
  "kernelspec": {
   "display_name": "Python 2",
   "language": "python",
   "name": "python2"
  },
  "language_info": {
   "codemirror_mode": {
    "name": "ipython",
    "version": 2
   },
   "file_extension": ".py",
   "mimetype": "text/x-python",
   "name": "python",
   "nbconvert_exporter": "python",
   "pygments_lexer": "ipython2",
   "version": "2.7.13"
  }
 },
 "nbformat": 4,
 "nbformat_minor": 0
}
